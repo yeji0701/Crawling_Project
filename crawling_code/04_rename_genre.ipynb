{
 "cells": [
  {
   "cell_type": "code",
   "execution_count": 3,
   "metadata": {},
   "outputs": [],
   "source": [
    "df = pd.read_csv('C:/Users/luvu1/Documents/dss15/crawling_project/datas/final2019(rev3).csv', index_col=[0])"
   ]
  },
  {
   "cell_type": "code",
   "execution_count": 4,
   "metadata": {},
   "outputs": [
    {
     "output_type": "execute_result",
     "data": {
      "text/plain": [
       "         Artist Genre                                             Lyrics  \\\n",
       "4267        아이유  록/메탈  ‘뭐해?‘라는 두 글자에‘네가 보고 싶어’ 나의 속마음을 담아 우이모티콘 하나하나 ...   \n",
       "4268        MC몽  랩/힙합  우선 캐릭터는 분명해야 해요 X 같은 XX철부지같이 굴면Fail 해요 Next 바로...   \n",
       "4269  ITZY (있지)    댄스  Hey hey hey yass whoo Beep beep Hey hey hey he...   \n",
       "4270  Lil tachi  랩/힙합  멋이 다 흘러흘러서 넘쳐멀어 버렸어배로 막 벌어멋이 다 흘러멋이 다 흘러배로 막 벌...   \n",
       "4271        홍진영  성인가요  오늘 밤에 아무도 모르게너랑 둘이서 둘이서 사랑을 할거야오늘 밤에 아무도 모르게뚜뚜...   \n",
       "\n",
       "                    Title  Year  \n",
       "4267             Blueming  2019  \n",
       "4268  인기 (Feat. 송가인, 챈슬러)  2019  \n",
       "4269                  ICY  2019  \n",
       "4270       눈 (Prod. 기리보이)  2019  \n",
       "4271                오늘 밤에  2019  "
      ],
      "text/html": "<div>\n<style scoped>\n    .dataframe tbody tr th:only-of-type {\n        vertical-align: middle;\n    }\n\n    .dataframe tbody tr th {\n        vertical-align: top;\n    }\n\n    .dataframe thead th {\n        text-align: right;\n    }\n</style>\n<table border=\"1\" class=\"dataframe\">\n  <thead>\n    <tr style=\"text-align: right;\">\n      <th></th>\n      <th>Artist</th>\n      <th>Genre</th>\n      <th>Lyrics</th>\n      <th>Title</th>\n      <th>Year</th>\n    </tr>\n  </thead>\n  <tbody>\n    <tr>\n      <th>4267</th>\n      <td>아이유</td>\n      <td>록/메탈</td>\n      <td>‘뭐해?‘라는 두 글자에‘네가 보고 싶어’ 나의 속마음을 담아 우이모티콘 하나하나 ...</td>\n      <td>Blueming</td>\n      <td>2019</td>\n    </tr>\n    <tr>\n      <th>4268</th>\n      <td>MC몽</td>\n      <td>랩/힙합</td>\n      <td>우선 캐릭터는 분명해야 해요 X 같은 XX철부지같이 굴면Fail 해요 Next 바로...</td>\n      <td>인기 (Feat. 송가인, 챈슬러)</td>\n      <td>2019</td>\n    </tr>\n    <tr>\n      <th>4269</th>\n      <td>ITZY (있지)</td>\n      <td>댄스</td>\n      <td>Hey hey hey yass whoo Beep beep Hey hey hey he...</td>\n      <td>ICY</td>\n      <td>2019</td>\n    </tr>\n    <tr>\n      <th>4270</th>\n      <td>Lil tachi</td>\n      <td>랩/힙합</td>\n      <td>멋이 다 흘러흘러서 넘쳐멀어 버렸어배로 막 벌어멋이 다 흘러멋이 다 흘러배로 막 벌...</td>\n      <td>눈 (Prod. 기리보이)</td>\n      <td>2019</td>\n    </tr>\n    <tr>\n      <th>4271</th>\n      <td>홍진영</td>\n      <td>성인가요</td>\n      <td>오늘 밤에 아무도 모르게너랑 둘이서 둘이서 사랑을 할거야오늘 밤에 아무도 모르게뚜뚜...</td>\n      <td>오늘 밤에</td>\n      <td>2019</td>\n    </tr>\n  </tbody>\n</table>\n</div>"
     },
     "metadata": {},
     "execution_count": 4
    }
   ],
   "source": [
    "df.tail()"
   ]
  },
  {
   "cell_type": "code",
   "execution_count": null,
   "metadata": {},
   "outputs": [],
   "source": [
    "### some genres were paired or grouped together, some were listed with just one genre\n",
    "### renamed and replaced the values of 'Genre' column to limit the genre kinds to only 'R&B/Soul', '국내영화/국내드라마', '그외', '댄스', '랩/힙합', '록/메탈', '발라드', '성인가요', '인디음악', '재즈', '포크/블루스'"
   ]
  },
  {
   "cell_type": "code",
   "execution_count": 29,
   "metadata": {},
   "outputs": [
    {
     "output_type": "execute_result",
     "data": {
      "text/plain": [
       "               0\n",
       "Genre           \n",
       "R&B/Soul     200\n",
       "국내영화/국내드라마   123\n",
       "그외             8\n",
       "댄스           799\n",
       "랩/힙합         290\n",
       "록/메탈         373\n",
       "발라드         1506\n",
       "성인가요         624\n",
       "인디음악          59\n",
       "재즈             2\n",
       "포크/블루스       274"
      ],
      "text/html": "<div>\n<style scoped>\n    .dataframe tbody tr th:only-of-type {\n        vertical-align: middle;\n    }\n\n    .dataframe tbody tr th {\n        vertical-align: top;\n    }\n\n    .dataframe thead th {\n        text-align: right;\n    }\n</style>\n<table border=\"1\" class=\"dataframe\">\n  <thead>\n    <tr style=\"text-align: right;\">\n      <th></th>\n      <th>0</th>\n    </tr>\n    <tr>\n      <th>Genre</th>\n      <th></th>\n    </tr>\n  </thead>\n  <tbody>\n    <tr>\n      <th>R&amp;B/Soul</th>\n      <td>200</td>\n    </tr>\n    <tr>\n      <th>국내영화/국내드라마</th>\n      <td>123</td>\n    </tr>\n    <tr>\n      <th>그외</th>\n      <td>8</td>\n    </tr>\n    <tr>\n      <th>댄스</th>\n      <td>799</td>\n    </tr>\n    <tr>\n      <th>랩/힙합</th>\n      <td>290</td>\n    </tr>\n    <tr>\n      <th>록/메탈</th>\n      <td>373</td>\n    </tr>\n    <tr>\n      <th>발라드</th>\n      <td>1506</td>\n    </tr>\n    <tr>\n      <th>성인가요</th>\n      <td>624</td>\n    </tr>\n    <tr>\n      <th>인디음악</th>\n      <td>59</td>\n    </tr>\n    <tr>\n      <th>재즈</th>\n      <td>2</td>\n    </tr>\n    <tr>\n      <th>포크/블루스</th>\n      <td>274</td>\n    </tr>\n  </tbody>\n</table>\n</div>"
     },
     "metadata": {},
     "execution_count": 29
    }
   ],
   "source": [
    "df.groupby('Genre').size().to_frame()"
   ]
  },
  {
   "cell_type": "code",
   "execution_count": 11,
   "metadata": {},
   "outputs": [],
   "source": [
    "df = df[df.Genre != \"-\"]\n",
    "df = df[df.Genre != \"POP\"]"
   ]
  },
  {
   "cell_type": "code",
   "execution_count": 46,
   "metadata": {},
   "outputs": [],
   "source": [
    "df.drop_duplicates(inplace=True)"
   ]
  },
  {
   "cell_type": "code",
   "execution_count": 9,
   "metadata": {},
   "outputs": [],
   "source": [
    "df = df.replace([\"랩/힙합, 국내드라마\", \"포크/블루스, 국내드라마\", \"발라드, 랩/힙합, 국내드라마\", \"발라드, 국내드라마\", \"발라드, R&B/Soul, 국내드라마\", \"록/메탈, 국내드라마\", \"국내드라마\", \"록/메탈, 국내영화\", \"발라드, 국내영화\", \"일렉트로니카, 국내드라마\", \"국내영화\", \"댄스, 일렉트로니카\"], \"국내영화/국내드라마\")"
   ]
  },
  {
   "cell_type": "code",
   "execution_count": 10,
   "metadata": {},
   "outputs": [],
   "source": [
    "df = df.replace([\"R&B/Soul, 인디음악\", \"랩/힙합, 인디음악\", \"인디음악, 록/메탈\", \"인디음악, 일렉트로니카\", \"인디음악, 포크/블루스\", \"발라드, 인디음악\"], \"인디음악\")"
   ]
  },
  {
   "cell_type": "code",
   "execution_count": 13,
   "metadata": {},
   "outputs": [],
   "source": [
    "df = df.replace([\"댄스, 성인가요\", \"발라드, 성인가요\"], \"성인가요\")"
   ]
  },
  {
   "cell_type": "code",
   "execution_count": 15,
   "metadata": {},
   "outputs": [],
   "source": [
    "df = df.replace([\"국악, 국악가요\", \"뉴에이지\", \"재즈\", \"일렉트로니카\"], \"그외\")"
   ]
  },
  {
   "cell_type": "code",
   "execution_count": 17,
   "metadata": {},
   "outputs": [],
   "source": [
    "df = df.replace([\"록/메탈, 포크/블루스\", \"발라드, 포크/블루스\"], \"포크/블루스\")"
   ]
  },
  {
   "cell_type": "code",
   "execution_count": 26,
   "metadata": {},
   "outputs": [],
   "source": [
    "df = df.replace([\"댄스, R&B/Soul\", \"발라드, 댄스, 랩/힙합\"], \"댄스\")"
   ]
  },
  {
   "cell_type": "code",
   "execution_count": 28,
   "metadata": {},
   "outputs": [],
   "source": [
    "df = df.replace([\"발라드, R&B/Soul\"], [\"R&B/Soul\"])"
   ]
  },
  {
   "cell_type": "code",
   "execution_count": 20,
   "metadata": {},
   "outputs": [],
   "source": [
    "df = df.replace([\"발라드, 랩/힙합\", \"댄스, 랩/힙합\"], \"랩/힙합\")"
   ]
  },
  {
   "cell_type": "code",
   "execution_count": 21,
   "metadata": {},
   "outputs": [],
   "source": [
    "df = df.replace([\"발라드, 록/메탈\"], [\"록/메탈\"])"
   ]
  },
  {
   "cell_type": "code",
   "execution_count": 22,
   "metadata": {},
   "outputs": [],
   "source": [
    "df.loc[df[\"Title\"] == \"G Cafe\", 'Genre'] = \"댄스\"\n",
    "df.loc[df[\"Title\"] == \"너의 궁전\", 'Genre'] = \"댄스\"\n",
    "df.loc[df[\"Title\"] == \"다시\", 'Genre'] = \"발라드\"\n",
    "df.loc[df[\"Title\"] == \"부탁\", 'Genre'] = \"발라드\""
   ]
  },
  {
   "cell_type": "code",
   "execution_count": 23,
   "metadata": {},
   "outputs": [],
   "source": [
    "a = df[df[\"Title\"] == \"연정/폼생폼사/기사도\"].index\n",
    "df.drop(a, inplace=True)"
   ]
  },
  {
   "cell_type": "code",
   "execution_count": 24,
   "metadata": {},
   "outputs": [],
   "source": [
    "df = df.replace([\"재즈, 보컬재즈\", \"재즈, 애시드/퓨전/팝\"], \"재즈\")"
   ]
  },
  {
   "cell_type": "code",
   "execution_count": 30,
   "metadata": {},
   "outputs": [
    {
     "output_type": "execute_result",
     "data": {
      "text/plain": [
       "         Artist Genre                                             Lyrics  \\\n",
       "0           금호동  성인가요  하루의 일을 끝내고 돌아가는거리엔 사람의 물결하늘엔 별이 하나 둘 반짝이면가로등 하...   \n",
       "1           최숙자  성인가요  조기를 담뿍잡아기폭을 올리고온다던 그배는어이하여 아니오나수평선 바라보며그이름 부르면...   \n",
       "2           이미자  성인가요  <1절 임이라 부르리까 당신이라고 부르리까 사랑을 하면서도 사랑을 참고사는 마음으로...   \n",
       "3           이미자  성인가요  헤일 수 없이 수많은 밤을내 가슴 도려내는 아픔에 겨워얼마나 울었던가 동백아가씨그리...   \n",
       "4            현미  성인가요  그 날 밤 그 자리에둘이서 만났을 때똑같은 그 순간에똑같은 마음이달빛에 젖은 채밤새...   \n",
       "...         ...   ...                                                ...   \n",
       "4253        아이유  록/메탈  ‘뭐해?‘라는 두 글자에‘네가 보고 싶어’ 나의 속마음을 담아 우이모티콘 하나하나 ...   \n",
       "4254        MC몽  랩/힙합  우선 캐릭터는 분명해야 해요 X 같은 XX철부지같이 굴면Fail 해요 Next 바로...   \n",
       "4255  ITZY (있지)    댄스  Hey hey hey yass whoo Beep beep Hey hey hey he...   \n",
       "4256  Lil tachi  랩/힙합  멋이 다 흘러흘러서 넘쳐멀어 버렸어배로 막 벌어멋이 다 흘러멋이 다 흘러배로 막 벌...   \n",
       "4257        홍진영  성인가요  오늘 밤에 아무도 모르게너랑 둘이서 둘이서 사랑을 할거야오늘 밤에 아무도 모르게뚜뚜...   \n",
       "\n",
       "                    Title  Year  \n",
       "0                내일또 만납시다  1964  \n",
       "1                 눈물의 연평도  1964  \n",
       "2                님이라 부르리까  1964  \n",
       "3                   동백아가씨  1964  \n",
       "4                떠날때는 말없이  1964  \n",
       "...                   ...   ...  \n",
       "4253             Blueming  2019  \n",
       "4254  인기 (Feat. 송가인, 챈슬러)  2019  \n",
       "4255                  ICY  2019  \n",
       "4256       눈 (Prod. 기리보이)  2019  \n",
       "4257                오늘 밤에  2019  \n",
       "\n",
       "[4258 rows x 5 columns]"
      ],
      "text/html": "<div>\n<style scoped>\n    .dataframe tbody tr th:only-of-type {\n        vertical-align: middle;\n    }\n\n    .dataframe tbody tr th {\n        vertical-align: top;\n    }\n\n    .dataframe thead th {\n        text-align: right;\n    }\n</style>\n<table border=\"1\" class=\"dataframe\">\n  <thead>\n    <tr style=\"text-align: right;\">\n      <th></th>\n      <th>Artist</th>\n      <th>Genre</th>\n      <th>Lyrics</th>\n      <th>Title</th>\n      <th>Year</th>\n    </tr>\n  </thead>\n  <tbody>\n    <tr>\n      <th>0</th>\n      <td>금호동</td>\n      <td>성인가요</td>\n      <td>하루의 일을 끝내고 돌아가는거리엔 사람의 물결하늘엔 별이 하나 둘 반짝이면가로등 하...</td>\n      <td>내일또 만납시다</td>\n      <td>1964</td>\n    </tr>\n    <tr>\n      <th>1</th>\n      <td>최숙자</td>\n      <td>성인가요</td>\n      <td>조기를 담뿍잡아기폭을 올리고온다던 그배는어이하여 아니오나수평선 바라보며그이름 부르면...</td>\n      <td>눈물의 연평도</td>\n      <td>1964</td>\n    </tr>\n    <tr>\n      <th>2</th>\n      <td>이미자</td>\n      <td>성인가요</td>\n      <td>&lt;1절 임이라 부르리까 당신이라고 부르리까 사랑을 하면서도 사랑을 참고사는 마음으로...</td>\n      <td>님이라 부르리까</td>\n      <td>1964</td>\n    </tr>\n    <tr>\n      <th>3</th>\n      <td>이미자</td>\n      <td>성인가요</td>\n      <td>헤일 수 없이 수많은 밤을내 가슴 도려내는 아픔에 겨워얼마나 울었던가 동백아가씨그리...</td>\n      <td>동백아가씨</td>\n      <td>1964</td>\n    </tr>\n    <tr>\n      <th>4</th>\n      <td>현미</td>\n      <td>성인가요</td>\n      <td>그 날 밤 그 자리에둘이서 만났을 때똑같은 그 순간에똑같은 마음이달빛에 젖은 채밤새...</td>\n      <td>떠날때는 말없이</td>\n      <td>1964</td>\n    </tr>\n    <tr>\n      <th>...</th>\n      <td>...</td>\n      <td>...</td>\n      <td>...</td>\n      <td>...</td>\n      <td>...</td>\n    </tr>\n    <tr>\n      <th>4253</th>\n      <td>아이유</td>\n      <td>록/메탈</td>\n      <td>‘뭐해?‘라는 두 글자에‘네가 보고 싶어’ 나의 속마음을 담아 우이모티콘 하나하나 ...</td>\n      <td>Blueming</td>\n      <td>2019</td>\n    </tr>\n    <tr>\n      <th>4254</th>\n      <td>MC몽</td>\n      <td>랩/힙합</td>\n      <td>우선 캐릭터는 분명해야 해요 X 같은 XX철부지같이 굴면Fail 해요 Next 바로...</td>\n      <td>인기 (Feat. 송가인, 챈슬러)</td>\n      <td>2019</td>\n    </tr>\n    <tr>\n      <th>4255</th>\n      <td>ITZY (있지)</td>\n      <td>댄스</td>\n      <td>Hey hey hey yass whoo Beep beep Hey hey hey he...</td>\n      <td>ICY</td>\n      <td>2019</td>\n    </tr>\n    <tr>\n      <th>4256</th>\n      <td>Lil tachi</td>\n      <td>랩/힙합</td>\n      <td>멋이 다 흘러흘러서 넘쳐멀어 버렸어배로 막 벌어멋이 다 흘러멋이 다 흘러배로 막 벌...</td>\n      <td>눈 (Prod. 기리보이)</td>\n      <td>2019</td>\n    </tr>\n    <tr>\n      <th>4257</th>\n      <td>홍진영</td>\n      <td>성인가요</td>\n      <td>오늘 밤에 아무도 모르게너랑 둘이서 둘이서 사랑을 할거야오늘 밤에 아무도 모르게뚜뚜...</td>\n      <td>오늘 밤에</td>\n      <td>2019</td>\n    </tr>\n  </tbody>\n</table>\n<p>4258 rows × 5 columns</p>\n</div>"
     },
     "metadata": {},
     "execution_count": 30
    }
   ],
   "source": [
    "df.reset_index(drop=True, inplace=True)\n",
    "df"
   ]
  },
  {
   "cell_type": "code",
   "execution_count": 62,
   "metadata": {},
   "outputs": [],
   "source": [
    "df.to_csv('./datas/final2019(rev4).csv')"
   ]
  },
  {
   "cell_type": "code",
   "execution_count": null,
   "metadata": {},
   "outputs": [],
   "source": []
  }
 ],
 "metadata": {
  "kernelspec": {
   "display_name": "Python 3",
   "language": "python",
   "name": "python3"
  },
  "language_info": {
   "codemirror_mode": {
    "name": "ipython",
    "version": 3
   },
   "file_extension": ".py",
   "mimetype": "text/x-python",
   "name": "python",
   "nbconvert_exporter": "python",
   "pygments_lexer": "ipython3",
   "version": "3.8.3-final"
  }
 },
 "nbformat": 4,
 "nbformat_minor": 4
}