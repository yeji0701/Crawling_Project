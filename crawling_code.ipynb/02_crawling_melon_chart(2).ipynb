{
 "cells": [
  {
   "cell_type": "code",
   "execution_count": 1,
   "metadata": {},
   "outputs": [],
   "source": [
    "import requests\n",
    "from bs4 import BeautifulSoup\n",
    "from fake_useragent import UserAgent\n",
    "import time\n",
    "import random"
   ]
  },
  {
   "cell_type": "code",
   "execution_count": 2,
   "metadata": {},
   "outputs": [],
   "source": [
    "year = 2013\n",
    "url = \"https://www.melon.com/chart/age/list.htm?idx=1&chartType=YE&chartGenre=KPOP&chartDate={}&moved=Y\".format(year)\n",
    "headers = {\n",
    "    \"User-Agent\" : UserAgent().chrome\n",
    "}"
   ]
  },
  {
   "cell_type": "code",
   "execution_count": 3,
   "metadata": {},
   "outputs": [
    {
     "data": {
      "text/plain": [
       "<Response [200]>"
      ]
     },
     "execution_count": 3,
     "metadata": {},
     "output_type": "execute_result"
    }
   ],
   "source": [
    "response = requests.get(url, headers=headers)\n",
    "response"
   ]
  },
  {
   "cell_type": "code",
   "execution_count": 4,
   "metadata": {},
   "outputs": [
    {
     "data": {
      "text/plain": [
       "100"
      ]
     },
     "execution_count": 4,
     "metadata": {},
     "output_type": "execute_result"
    }
   ],
   "source": [
    "dom = BeautifulSoup(response.text, 'html.parser')\n",
    "elements = dom.select(\"#frm > table > tbody tr\")\n",
    "len(elements)"
   ]
  },
  {
   "cell_type": "code",
   "execution_count": 5,
   "metadata": {},
   "outputs": [],
   "source": [
    "element = elements[0]"
   ]
  },
  {
   "cell_type": "code",
   "execution_count": 6,
   "metadata": {},
   "outputs": [],
   "source": [
    "data = {\n",
    "    \"title\" : element.select_one('a > .odd_span').text.split('상')[0].strip(),\n",
    "    \"artist\" : element.select_one('div > .fc_mgray').text,\n",
    "    \"link\" : 'https://www.melon.com/song/detail.htm?songId=' + element.select_one('td > div > input').get('value')\n",
    "}"
   ]
  },
  {
   "cell_type": "code",
   "execution_count": 7,
   "metadata": {},
   "outputs": [],
   "source": [
    "datas = []\n",
    "for element in elements:\n",
    "    data = {\n",
    "        \"title\" : element.select_one('a > .odd_span').text.split('상')[0].strip(),\n",
    "        \"artist\" : element.select_one('div > .fc_mgray').text,\n",
    "        \"link\" : 'https://www.melon.com/song/detail.htm?songId=' + element.select_one('td > div > input').get('value')\n",
    "    }\n",
    "    datas.append(data)"
   ]
  },
  {
   "cell_type": "code",
   "execution_count": 8,
   "metadata": {},
   "outputs": [],
   "source": [
    "import pandas as pd"
   ]
  },
  {
   "cell_type": "code",
   "execution_count": 9,
   "metadata": {
    "scrolled": false
   },
   "outputs": [
    {
     "data": {
      "text/html": [
       "<div>\n",
       "<style scoped>\n",
       "    .dataframe tbody tr th:only-of-type {\n",
       "        vertical-align: middle;\n",
       "    }\n",
       "\n",
       "    .dataframe tbody tr th {\n",
       "        vertical-align: top;\n",
       "    }\n",
       "\n",
       "    .dataframe thead th {\n",
       "        text-align: right;\n",
       "    }\n",
       "</style>\n",
       "<table border=\"1\" class=\"dataframe\">\n",
       "  <thead>\n",
       "    <tr style=\"text-align: right;\">\n",
       "      <th></th>\n",
       "      <th>artist</th>\n",
       "      <th>link</th>\n",
       "      <th>title</th>\n",
       "    </tr>\n",
       "  </thead>\n",
       "  <tbody>\n",
       "    <tr>\n",
       "      <th>95</th>\n",
       "      <td>버벌진트</td>\n",
       "      <td>https://www.melon.com/song/detail.htm?songId=4...</td>\n",
       "      <td>비범벅 (Feat. 범키)</td>\n",
       "    </tr>\n",
       "    <tr>\n",
       "      <th>96</th>\n",
       "      <td>2NE1</td>\n",
       "      <td>https://www.melon.com/song/detail.htm?songId=4...</td>\n",
       "      <td>그리워해요</td>\n",
       "    </tr>\n",
       "    <tr>\n",
       "      <th>97</th>\n",
       "      <td>빈지노 (Beenzino)</td>\n",
       "      <td>https://www.melon.com/song/detail.htm?songId=3...</td>\n",
       "      <td>Boogie On &amp; On</td>\n",
       "    </tr>\n",
       "    <tr>\n",
       "      <th>98</th>\n",
       "      <td>버벌진트</td>\n",
       "      <td>https://www.melon.com/song/detail.htm?songId=4...</td>\n",
       "      <td>시작이 좋아 (Feat. 강민희 Of 미스에스)</td>\n",
       "    </tr>\n",
       "    <tr>\n",
       "      <th>99</th>\n",
       "      <td>써니힐</td>\n",
       "      <td>https://www.melon.com/song/detail.htm?songId=3...</td>\n",
       "      <td>Goodbye To Romance</td>\n",
       "    </tr>\n",
       "  </tbody>\n",
       "</table>\n",
       "</div>"
      ],
      "text/plain": [
       "            artist                                               link  \\\n",
       "95            버벌진트  https://www.melon.com/song/detail.htm?songId=4...   \n",
       "96            2NE1  https://www.melon.com/song/detail.htm?songId=4...   \n",
       "97  빈지노 (Beenzino)  https://www.melon.com/song/detail.htm?songId=3...   \n",
       "98            버벌진트  https://www.melon.com/song/detail.htm?songId=4...   \n",
       "99             써니힐  https://www.melon.com/song/detail.htm?songId=3...   \n",
       "\n",
       "                         title  \n",
       "95              비범벅 (Feat. 범키)  \n",
       "96                       그리워해요  \n",
       "97              Boogie On & On  \n",
       "98  시작이 좋아 (Feat. 강민희 Of 미스에스)  \n",
       "99          Goodbye To Romance  "
      ]
     },
     "execution_count": 9,
     "metadata": {},
     "output_type": "execute_result"
    }
   ],
   "source": [
    "song_df = pd.DataFrame(datas)\n",
    "song_df.tail()"
   ]
  },
  {
   "cell_type": "code",
   "execution_count": 10,
   "metadata": {},
   "outputs": [
    {
     "name": "stdout",
     "output_type": "stream",
     "text": [
      "https://www.melon.com/song/detail.htm?songId=3726617\n"
     ]
    }
   ],
   "source": [
    "link = song_df.loc[0, 'link']\n",
    "print(link)"
   ]
  },
  {
   "cell_type": "code",
   "execution_count": 33,
   "metadata": {},
   "outputs": [
    {
     "data": {
      "text/plain": [
       "<Response [406]>"
      ]
     },
     "execution_count": 33,
     "metadata": {},
     "output_type": "execute_result"
    }
   ],
   "source": [
    "headers = {\n",
    "    \"User-Agent\" : UserAgent().chrome\n",
    "}\n",
    "response = requests.get(link, headers=headers)\n",
    "dom = BeautifulSoup(response.content, 'html.parser')\n",
    "response"
   ]
  },
  {
   "cell_type": "code",
   "execution_count": 12,
   "metadata": {},
   "outputs": [
    {
     "data": {
      "text/plain": [
       "'랩/힙합'"
      ]
     },
     "execution_count": 12,
     "metadata": {},
     "output_type": "execute_result"
    }
   ],
   "source": [
    "elements = dom.select_one('div.entry > div.meta > dl > dd:nth-child(6)').text\n",
    "elements"
   ]
  },
  {
   "cell_type": "code",
   "execution_count": 13,
   "metadata": {},
   "outputs": [],
   "source": [
    "def get_genre(link):\n",
    "    headers = {\"User-Agent\" : UserAgent().chrome}\n",
    "    response = requests.get(link, headers=headers)\n",
    "    dom = BeautifulSoup(response.content, 'html.parser')\n",
    "    \n",
    "    return dom.select_one('div.entry > div.meta > dl > dd:nth-child(6)').text"
   ]
  },
  {
   "cell_type": "code",
   "execution_count": 14,
   "metadata": {},
   "outputs": [],
   "source": [
    "def song_details(year):\n",
    "\n",
    "        url = \"https://www.melon.com/chart/age/list.htm?idx=1&chartType=YE&chartGenre=KPOP&chartDate={}&moved=Y\".format(year)\n",
    "        headers = {\n",
    "            \"User-Agent\" : UserAgent().chrome\n",
    "        }\n",
    "        response = requests.get(url, headers=headers)\n",
    "        dom = BeautifulSoup(response.text, 'html.parser')\n",
    "        elements = dom.select(\"#frm > table > tbody tr\")\n",
    "        \n",
    "        datas = []\n",
    "        for element in elements:\n",
    "            data = {\n",
    "                \"Title\" : element.select_one('a > .odd_span').text.split('상')[0].strip(),\n",
    "                \"Artist\" : element.select_one('div > .fc_mgray').text,\n",
    "                \"Year\" : year,\n",
    "                \"Link\" : 'https://www.melon.com/song/detail.htm?songId=' + element.select_one('td > div > input').get('value')\n",
    "            }\n",
    "            datas.append(data)\n",
    "    \n",
    "        return datas"
   ]
  },
  {
   "cell_type": "markdown",
   "metadata": {},
   "source": [
    "### 1964~1975"
   ]
  },
  {
   "cell_type": "code",
   "execution_count": null,
   "metadata": {},
   "outputs": [],
   "source": [
    "# 장르 수집 함수\n",
    "# 한꺼번에 너무 많이 수집하면 도중에 response 406이 발생하여 상세 페이지 접속이 불가함\n",
    "# 년도를 나눠서 수집하면 정상적으로 수집할 수 있으나 한 번 실행하고 나면 response 406이 발생하기 때문에 한시간 정도 쉬어주면서 다시 실행해야 함"
   ]
  },
  {
   "cell_type": "code",
   "execution_count": 16,
   "metadata": {},
   "outputs": [],
   "source": [
    "year = list(range(1964, 1976))"
   ]
  },
  {
   "cell_type": "code",
   "execution_count": 17,
   "metadata": {},
   "outputs": [],
   "source": [
    "result = []\n",
    "for y in year:\n",
    "    result.extend(song_details(y))"
   ]
  },
  {
   "cell_type": "code",
   "execution_count": 18,
   "metadata": {},
   "outputs": [],
   "source": [
    "first_df = pd.DataFrame(result)"
   ]
  },
  {
   "cell_type": "code",
   "execution_count": 19,
   "metadata": {},
   "outputs": [
    {
     "data": {
      "text/html": [
       "<div>\n",
       "<style scoped>\n",
       "    .dataframe tbody tr th:only-of-type {\n",
       "        vertical-align: middle;\n",
       "    }\n",
       "\n",
       "    .dataframe tbody tr th {\n",
       "        vertical-align: top;\n",
       "    }\n",
       "\n",
       "    .dataframe thead th {\n",
       "        text-align: right;\n",
       "    }\n",
       "</style>\n",
       "<table border=\"1\" class=\"dataframe\">\n",
       "  <thead>\n",
       "    <tr style=\"text-align: right;\">\n",
       "      <th></th>\n",
       "      <th>Artist</th>\n",
       "      <th>Link</th>\n",
       "      <th>Title</th>\n",
       "      <th>Year</th>\n",
       "      <th>Genre</th>\n",
       "    </tr>\n",
       "  </thead>\n",
       "  <tbody>\n",
       "    <tr>\n",
       "      <th>390</th>\n",
       "      <td>김정호</td>\n",
       "      <td>https://www.melon.com/song/detail.htm?songId=4...</td>\n",
       "      <td>푸른 하늘 아래로</td>\n",
       "      <td>1975</td>\n",
       "      <td>포크/블루스</td>\n",
       "    </tr>\n",
       "    <tr>\n",
       "      <th>391</th>\n",
       "      <td>김정호</td>\n",
       "      <td>https://www.melon.com/song/detail.htm?songId=1...</td>\n",
       "      <td>하얀 나비 (Narr. 이윤선)</td>\n",
       "      <td>1975</td>\n",
       "      <td>성인가요</td>\n",
       "    </tr>\n",
       "    <tr>\n",
       "      <th>392</th>\n",
       "      <td>송대관</td>\n",
       "      <td>https://www.melon.com/song/detail.htm?songId=5...</td>\n",
       "      <td>해뜰 날</td>\n",
       "      <td>1975</td>\n",
       "      <td>성인가요</td>\n",
       "    </tr>\n",
       "    <tr>\n",
       "      <th>393</th>\n",
       "      <td>김세환</td>\n",
       "      <td>https://www.melon.com/song/detail.htm?songId=3...</td>\n",
       "      <td>화가 났을까</td>\n",
       "      <td>1975</td>\n",
       "      <td>포크/블루스</td>\n",
       "    </tr>\n",
       "    <tr>\n",
       "      <th>394</th>\n",
       "      <td>정미조</td>\n",
       "      <td>https://www.melon.com/song/detail.htm?songId=1...</td>\n",
       "      <td>휘파람을 부세요</td>\n",
       "      <td>1975</td>\n",
       "      <td>발라드</td>\n",
       "    </tr>\n",
       "  </tbody>\n",
       "</table>\n",
       "</div>"
      ],
      "text/plain": [
       "    Artist                                               Link  \\\n",
       "390    김정호  https://www.melon.com/song/detail.htm?songId=4...   \n",
       "391    김정호  https://www.melon.com/song/detail.htm?songId=1...   \n",
       "392    송대관  https://www.melon.com/song/detail.htm?songId=5...   \n",
       "393    김세환  https://www.melon.com/song/detail.htm?songId=3...   \n",
       "394    정미조  https://www.melon.com/song/detail.htm?songId=1...   \n",
       "\n",
       "                 Title  Year   Genre  \n",
       "390          푸른 하늘 아래로  1975  포크/블루스  \n",
       "391  하얀 나비 (Narr. 이윤선)  1975    성인가요  \n",
       "392               해뜰 날  1975    성인가요  \n",
       "393             화가 났을까  1975  포크/블루스  \n",
       "394           휘파람을 부세요  1975     발라드  "
      ]
     },
     "execution_count": 19,
     "metadata": {},
     "output_type": "execute_result"
    }
   ],
   "source": [
    "first_df['Genre'] = first_df['Link'].apply(get_genre)\n",
    "first_df.tail()"
   ]
  },
  {
   "cell_type": "code",
   "execution_count": 20,
   "metadata": {},
   "outputs": [],
   "source": [
    "first_df.to_csv('./datas/first.csv')"
   ]
  },
  {
   "cell_type": "markdown",
   "metadata": {},
   "source": [
    "### 1976~1985"
   ]
  },
  {
   "cell_type": "code",
   "execution_count": 33,
   "metadata": {},
   "outputs": [],
   "source": [
    "year = list(range(1976, 1986))"
   ]
  },
  {
   "cell_type": "code",
   "execution_count": 34,
   "metadata": {},
   "outputs": [],
   "source": [
    "result = []\n",
    "for y in year:\n",
    "    result.extend(song_details(y))"
   ]
  },
  {
   "cell_type": "code",
   "execution_count": 35,
   "metadata": {},
   "outputs": [
    {
     "data": {
      "text/html": [
       "<div>\n",
       "<style scoped>\n",
       "    .dataframe tbody tr th:only-of-type {\n",
       "        vertical-align: middle;\n",
       "    }\n",
       "\n",
       "    .dataframe tbody tr th {\n",
       "        vertical-align: top;\n",
       "    }\n",
       "\n",
       "    .dataframe thead th {\n",
       "        text-align: right;\n",
       "    }\n",
       "</style>\n",
       "<table border=\"1\" class=\"dataframe\">\n",
       "  <thead>\n",
       "    <tr style=\"text-align: right;\">\n",
       "      <th></th>\n",
       "      <th>Artist</th>\n",
       "      <th>Link</th>\n",
       "      <th>Title</th>\n",
       "      <th>Year</th>\n",
       "    </tr>\n",
       "  </thead>\n",
       "  <tbody>\n",
       "    <tr>\n",
       "      <th>478</th>\n",
       "      <td>김연자</td>\n",
       "      <td>https://www.melon.com/song/detail.htm?songId=1...</td>\n",
       "      <td>영동부르스</td>\n",
       "      <td>1985</td>\n",
       "    </tr>\n",
       "    <tr>\n",
       "      <th>479</th>\n",
       "      <td>김학래</td>\n",
       "      <td>https://www.melon.com/song/detail.htm?songId=2...</td>\n",
       "      <td>사랑과 약속</td>\n",
       "      <td>1985</td>\n",
       "    </tr>\n",
       "    <tr>\n",
       "      <th>480</th>\n",
       "      <td>황선형</td>\n",
       "      <td>https://www.melon.com/song/detail.htm?songId=1...</td>\n",
       "      <td>물망초</td>\n",
       "      <td>1985</td>\n",
       "    </tr>\n",
       "    <tr>\n",
       "      <th>481</th>\n",
       "      <td>민지</td>\n",
       "      <td>https://www.melon.com/song/detail.htm?songId=9...</td>\n",
       "      <td>당신이 주는 것</td>\n",
       "      <td>1985</td>\n",
       "    </tr>\n",
       "    <tr>\n",
       "      <th>482</th>\n",
       "      <td>이리</td>\n",
       "      <td>https://www.melon.com/song/detail.htm?songId=9...</td>\n",
       "      <td>어제</td>\n",
       "      <td>1985</td>\n",
       "    </tr>\n",
       "  </tbody>\n",
       "</table>\n",
       "</div>"
      ],
      "text/plain": [
       "    Artist                                               Link     Title  Year\n",
       "478    김연자  https://www.melon.com/song/detail.htm?songId=1...     영동부르스  1985\n",
       "479    김학래  https://www.melon.com/song/detail.htm?songId=2...    사랑과 약속  1985\n",
       "480    황선형  https://www.melon.com/song/detail.htm?songId=1...       물망초  1985\n",
       "481     민지  https://www.melon.com/song/detail.htm?songId=9...  당신이 주는 것  1985\n",
       "482     이리  https://www.melon.com/song/detail.htm?songId=9...        어제  1985"
      ]
     },
     "execution_count": 35,
     "metadata": {},
     "output_type": "execute_result"
    }
   ],
   "source": [
    "second_df = pd.DataFrame(result)\n",
    "second_df.tail()"
   ]
  },
  {
   "cell_type": "code",
   "execution_count": 63,
   "metadata": {},
   "outputs": [
    {
     "data": {
      "text/html": [
       "<div>\n",
       "<style scoped>\n",
       "    .dataframe tbody tr th:only-of-type {\n",
       "        vertical-align: middle;\n",
       "    }\n",
       "\n",
       "    .dataframe tbody tr th {\n",
       "        vertical-align: top;\n",
       "    }\n",
       "\n",
       "    .dataframe thead th {\n",
       "        text-align: right;\n",
       "    }\n",
       "</style>\n",
       "<table border=\"1\" class=\"dataframe\">\n",
       "  <thead>\n",
       "    <tr style=\"text-align: right;\">\n",
       "      <th></th>\n",
       "      <th>Artist</th>\n",
       "      <th>Link</th>\n",
       "      <th>Title</th>\n",
       "      <th>Year</th>\n",
       "      <th>Genre</th>\n",
       "    </tr>\n",
       "  </thead>\n",
       "  <tbody>\n",
       "    <tr>\n",
       "      <th>478</th>\n",
       "      <td>김연자</td>\n",
       "      <td>https://www.melon.com/song/detail.htm?songId=1...</td>\n",
       "      <td>영동부르스</td>\n",
       "      <td>1985</td>\n",
       "      <td>발라드, 성인가요</td>\n",
       "    </tr>\n",
       "    <tr>\n",
       "      <th>479</th>\n",
       "      <td>김학래</td>\n",
       "      <td>https://www.melon.com/song/detail.htm?songId=2...</td>\n",
       "      <td>사랑과 약속</td>\n",
       "      <td>1985</td>\n",
       "      <td>발라드</td>\n",
       "    </tr>\n",
       "    <tr>\n",
       "      <th>480</th>\n",
       "      <td>황선형</td>\n",
       "      <td>https://www.melon.com/song/detail.htm?songId=1...</td>\n",
       "      <td>물망초</td>\n",
       "      <td>1985</td>\n",
       "      <td>성인가요</td>\n",
       "    </tr>\n",
       "    <tr>\n",
       "      <th>481</th>\n",
       "      <td>민지</td>\n",
       "      <td>https://www.melon.com/song/detail.htm?songId=9...</td>\n",
       "      <td>당신이 주는 것</td>\n",
       "      <td>1985</td>\n",
       "      <td>성인가요</td>\n",
       "    </tr>\n",
       "    <tr>\n",
       "      <th>482</th>\n",
       "      <td>이리</td>\n",
       "      <td>https://www.melon.com/song/detail.htm?songId=9...</td>\n",
       "      <td>어제</td>\n",
       "      <td>1985</td>\n",
       "      <td>성인가요</td>\n",
       "    </tr>\n",
       "  </tbody>\n",
       "</table>\n",
       "</div>"
      ],
      "text/plain": [
       "    Artist                                               Link     Title  Year  \\\n",
       "478    김연자  https://www.melon.com/song/detail.htm?songId=1...     영동부르스  1985   \n",
       "479    김학래  https://www.melon.com/song/detail.htm?songId=2...    사랑과 약속  1985   \n",
       "480    황선형  https://www.melon.com/song/detail.htm?songId=1...       물망초  1985   \n",
       "481     민지  https://www.melon.com/song/detail.htm?songId=9...  당신이 주는 것  1985   \n",
       "482     이리  https://www.melon.com/song/detail.htm?songId=9...        어제  1985   \n",
       "\n",
       "         Genre  \n",
       "478  발라드, 성인가요  \n",
       "479        발라드  \n",
       "480       성인가요  \n",
       "481       성인가요  \n",
       "482       성인가요  "
      ]
     },
     "execution_count": 63,
     "metadata": {},
     "output_type": "execute_result"
    }
   ],
   "source": [
    "second_df['Genre'] = second_df['Link'].apply(get_genre)\n",
    "second_df.tail()"
   ]
  },
  {
   "cell_type": "code",
   "execution_count": 64,
   "metadata": {},
   "outputs": [],
   "source": [
    "second_df.to_csv('./datas/second.csv')"
   ]
  },
  {
   "cell_type": "markdown",
   "metadata": {},
   "source": [
    "### 1986~1995"
   ]
  },
  {
   "cell_type": "code",
   "execution_count": 65,
   "metadata": {},
   "outputs": [],
   "source": [
    "year = list(range(1986, 1996))"
   ]
  },
  {
   "cell_type": "code",
   "execution_count": 66,
   "metadata": {},
   "outputs": [],
   "source": [
    "result = []\n",
    "for y in year:\n",
    "    result.extend(song_details(y))"
   ]
  },
  {
   "cell_type": "code",
   "execution_count": 67,
   "metadata": {},
   "outputs": [
    {
     "data": {
      "text/html": [
       "<div>\n",
       "<style scoped>\n",
       "    .dataframe tbody tr th:only-of-type {\n",
       "        vertical-align: middle;\n",
       "    }\n",
       "\n",
       "    .dataframe tbody tr th {\n",
       "        vertical-align: top;\n",
       "    }\n",
       "\n",
       "    .dataframe thead th {\n",
       "        text-align: right;\n",
       "    }\n",
       "</style>\n",
       "<table border=\"1\" class=\"dataframe\">\n",
       "  <thead>\n",
       "    <tr style=\"text-align: right;\">\n",
       "      <th></th>\n",
       "      <th>Artist</th>\n",
       "      <th>Link</th>\n",
       "      <th>Title</th>\n",
       "      <th>Year</th>\n",
       "    </tr>\n",
       "  </thead>\n",
       "  <tbody>\n",
       "    <tr>\n",
       "      <th>991</th>\n",
       "      <td>EOS(이오에스)</td>\n",
       "      <td>https://www.melon.com/song/detail.htm?songId=6...</td>\n",
       "      <td>넌 남이 아냐 (House Ver.)</td>\n",
       "      <td>1995</td>\n",
       "    </tr>\n",
       "    <tr>\n",
       "      <th>992</th>\n",
       "      <td>신승훈</td>\n",
       "      <td>https://www.melon.com/song/detail.htm?songId=5...</td>\n",
       "      <td>오랜 이별뒤에</td>\n",
       "      <td>1995</td>\n",
       "    </tr>\n",
       "    <tr>\n",
       "      <th>993</th>\n",
       "      <td>김범수</td>\n",
       "      <td>https://www.melon.com/song/detail.htm?songId=6...</td>\n",
       "      <td>Happy End (Edit Ver.)</td>\n",
       "      <td>1995</td>\n",
       "    </tr>\n",
       "    <tr>\n",
       "      <th>994</th>\n",
       "      <td>김원준</td>\n",
       "      <td>https://www.melon.com/song/detail.htm?songId=6...</td>\n",
       "      <td>넌 내꺼</td>\n",
       "      <td>1995</td>\n",
       "    </tr>\n",
       "    <tr>\n",
       "      <th>995</th>\n",
       "      <td>최연제</td>\n",
       "      <td>https://www.melon.com/song/detail.htm?songId=6...</td>\n",
       "      <td>너를 잊을 수 없어</td>\n",
       "      <td>1995</td>\n",
       "    </tr>\n",
       "  </tbody>\n",
       "</table>\n",
       "</div>"
      ],
      "text/plain": [
       "        Artist                                               Link  \\\n",
       "991  EOS(이오에스)  https://www.melon.com/song/detail.htm?songId=6...   \n",
       "992        신승훈  https://www.melon.com/song/detail.htm?songId=5...   \n",
       "993        김범수  https://www.melon.com/song/detail.htm?songId=6...   \n",
       "994        김원준  https://www.melon.com/song/detail.htm?songId=6...   \n",
       "995        최연제  https://www.melon.com/song/detail.htm?songId=6...   \n",
       "\n",
       "                     Title  Year  \n",
       "991   넌 남이 아냐 (House Ver.)  1995  \n",
       "992                오랜 이별뒤에  1995  \n",
       "993  Happy End (Edit Ver.)  1995  \n",
       "994                   넌 내꺼  1995  \n",
       "995             너를 잊을 수 없어  1995  "
      ]
     },
     "execution_count": 67,
     "metadata": {},
     "output_type": "execute_result"
    }
   ],
   "source": [
    "third_df = pd.DataFrame(result)\n",
    "third_df.tail()"
   ]
  },
  {
   "cell_type": "code",
   "execution_count": 96,
   "metadata": {},
   "outputs": [
    {
     "data": {
      "text/html": [
       "<div>\n",
       "<style scoped>\n",
       "    .dataframe tbody tr th:only-of-type {\n",
       "        vertical-align: middle;\n",
       "    }\n",
       "\n",
       "    .dataframe tbody tr th {\n",
       "        vertical-align: top;\n",
       "    }\n",
       "\n",
       "    .dataframe thead th {\n",
       "        text-align: right;\n",
       "    }\n",
       "</style>\n",
       "<table border=\"1\" class=\"dataframe\">\n",
       "  <thead>\n",
       "    <tr style=\"text-align: right;\">\n",
       "      <th></th>\n",
       "      <th>Artist</th>\n",
       "      <th>Link</th>\n",
       "      <th>Title</th>\n",
       "      <th>Year</th>\n",
       "      <th>Genre</th>\n",
       "    </tr>\n",
       "  </thead>\n",
       "  <tbody>\n",
       "    <tr>\n",
       "      <th>991</th>\n",
       "      <td>EOS(이오에스)</td>\n",
       "      <td>https://www.melon.com/song/detail.htm?songId=6...</td>\n",
       "      <td>넌 남이 아냐 (House Ver.)</td>\n",
       "      <td>1995</td>\n",
       "      <td>댄스</td>\n",
       "    </tr>\n",
       "    <tr>\n",
       "      <th>992</th>\n",
       "      <td>신승훈</td>\n",
       "      <td>https://www.melon.com/song/detail.htm?songId=5...</td>\n",
       "      <td>오랜 이별뒤에</td>\n",
       "      <td>1995</td>\n",
       "      <td>발라드</td>\n",
       "    </tr>\n",
       "    <tr>\n",
       "      <th>993</th>\n",
       "      <td>김범수</td>\n",
       "      <td>https://www.melon.com/song/detail.htm?songId=6...</td>\n",
       "      <td>Happy End (Edit Ver.)</td>\n",
       "      <td>1995</td>\n",
       "      <td>재즈, 애시드/퓨전/팝</td>\n",
       "    </tr>\n",
       "    <tr>\n",
       "      <th>994</th>\n",
       "      <td>김원준</td>\n",
       "      <td>https://www.melon.com/song/detail.htm?songId=6...</td>\n",
       "      <td>넌 내꺼</td>\n",
       "      <td>1995</td>\n",
       "      <td>댄스</td>\n",
       "    </tr>\n",
       "    <tr>\n",
       "      <th>995</th>\n",
       "      <td>최연제</td>\n",
       "      <td>https://www.melon.com/song/detail.htm?songId=6...</td>\n",
       "      <td>너를 잊을 수 없어</td>\n",
       "      <td>1995</td>\n",
       "      <td>발라드</td>\n",
       "    </tr>\n",
       "  </tbody>\n",
       "</table>\n",
       "</div>"
      ],
      "text/plain": [
       "        Artist                                               Link  \\\n",
       "991  EOS(이오에스)  https://www.melon.com/song/detail.htm?songId=6...   \n",
       "992        신승훈  https://www.melon.com/song/detail.htm?songId=5...   \n",
       "993        김범수  https://www.melon.com/song/detail.htm?songId=6...   \n",
       "994        김원준  https://www.melon.com/song/detail.htm?songId=6...   \n",
       "995        최연제  https://www.melon.com/song/detail.htm?songId=6...   \n",
       "\n",
       "                     Title  Year         Genre  \n",
       "991   넌 남이 아냐 (House Ver.)  1995            댄스  \n",
       "992                오랜 이별뒤에  1995           발라드  \n",
       "993  Happy End (Edit Ver.)  1995  재즈, 애시드/퓨전/팝  \n",
       "994                   넌 내꺼  1995            댄스  \n",
       "995             너를 잊을 수 없어  1995           발라드  "
      ]
     },
     "execution_count": 96,
     "metadata": {},
     "output_type": "execute_result"
    }
   ],
   "source": [
    "third_df['Genre'] = third_df['Link'].apply(get_genre)\n",
    "third_df.tail()"
   ]
  },
  {
   "cell_type": "code",
   "execution_count": 97,
   "metadata": {},
   "outputs": [],
   "source": [
    "third_df.to_csv('./datas/third.csv')"
   ]
  },
  {
   "cell_type": "markdown",
   "metadata": {},
   "source": [
    "### 2001~2005"
   ]
  },
  {
   "cell_type": "code",
   "execution_count": 15,
   "metadata": {},
   "outputs": [],
   "source": [
    "year = list(range(2001, 2006))"
   ]
  },
  {
   "cell_type": "code",
   "execution_count": 16,
   "metadata": {},
   "outputs": [],
   "source": [
    "result = []\n",
    "for y in year:\n",
    "    result.extend(song_details(y))"
   ]
  },
  {
   "cell_type": "code",
   "execution_count": 17,
   "metadata": {},
   "outputs": [
    {
     "data": {
      "text/html": [
       "<div>\n",
       "<style scoped>\n",
       "    .dataframe tbody tr th:only-of-type {\n",
       "        vertical-align: middle;\n",
       "    }\n",
       "\n",
       "    .dataframe tbody tr th {\n",
       "        vertical-align: top;\n",
       "    }\n",
       "\n",
       "    .dataframe thead th {\n",
       "        text-align: right;\n",
       "    }\n",
       "</style>\n",
       "<table border=\"1\" class=\"dataframe\">\n",
       "  <thead>\n",
       "    <tr style=\"text-align: right;\">\n",
       "      <th></th>\n",
       "      <th>Artist</th>\n",
       "      <th>Link</th>\n",
       "      <th>Title</th>\n",
       "      <th>Year</th>\n",
       "    </tr>\n",
       "  </thead>\n",
       "  <tbody>\n",
       "    <tr>\n",
       "      <th>494</th>\n",
       "      <td>거북이</td>\n",
       "      <td>https://www.melon.com/song/detail.htm?songId=6...</td>\n",
       "      <td>빙고 (아싸)</td>\n",
       "      <td>2005</td>\n",
       "    </tr>\n",
       "    <tr>\n",
       "      <th>495</th>\n",
       "      <td>전혜빈</td>\n",
       "      <td>https://www.melon.com/song/detail.htm?songId=9...</td>\n",
       "      <td>2 A.M (2:00am)</td>\n",
       "      <td>2005</td>\n",
       "    </tr>\n",
       "    <tr>\n",
       "      <th>496</th>\n",
       "      <td>슈가</td>\n",
       "      <td>https://www.melon.com/song/detail.htm?songId=9...</td>\n",
       "      <td>현명한 이별</td>\n",
       "      <td>2005</td>\n",
       "    </tr>\n",
       "    <tr>\n",
       "      <th>497</th>\n",
       "      <td>나윤권</td>\n",
       "      <td>https://www.melon.com/song/detail.htm?songId=9...</td>\n",
       "      <td>기대</td>\n",
       "      <td>2005</td>\n",
       "    </tr>\n",
       "    <tr>\n",
       "      <th>498</th>\n",
       "      <td>클래지콰이</td>\n",
       "      <td>https://www.melon.com/song/detail.htm?songId=8...</td>\n",
       "      <td>She Is</td>\n",
       "      <td>2005</td>\n",
       "    </tr>\n",
       "  </tbody>\n",
       "</table>\n",
       "</div>"
      ],
      "text/plain": [
       "    Artist                                               Link           Title  \\\n",
       "494    거북이  https://www.melon.com/song/detail.htm?songId=6...         빙고 (아싸)   \n",
       "495    전혜빈  https://www.melon.com/song/detail.htm?songId=9...  2 A.M (2:00am)   \n",
       "496     슈가  https://www.melon.com/song/detail.htm?songId=9...          현명한 이별   \n",
       "497    나윤권  https://www.melon.com/song/detail.htm?songId=9...              기대   \n",
       "498  클래지콰이  https://www.melon.com/song/detail.htm?songId=8...          She Is   \n",
       "\n",
       "     Year  \n",
       "494  2005  \n",
       "495  2005  \n",
       "496  2005  \n",
       "497  2005  \n",
       "498  2005  "
      ]
     },
     "execution_count": 17,
     "metadata": {},
     "output_type": "execute_result"
    }
   ],
   "source": [
    "fourth_df = pd.DataFrame(result)\n",
    "fourth_df.tail()"
   ]
  },
  {
   "cell_type": "code",
   "execution_count": 18,
   "metadata": {
    "scrolled": false
   },
   "outputs": [
    {
     "data": {
      "text/html": [
       "<div>\n",
       "<style scoped>\n",
       "    .dataframe tbody tr th:only-of-type {\n",
       "        vertical-align: middle;\n",
       "    }\n",
       "\n",
       "    .dataframe tbody tr th {\n",
       "        vertical-align: top;\n",
       "    }\n",
       "\n",
       "    .dataframe thead th {\n",
       "        text-align: right;\n",
       "    }\n",
       "</style>\n",
       "<table border=\"1\" class=\"dataframe\">\n",
       "  <thead>\n",
       "    <tr style=\"text-align: right;\">\n",
       "      <th></th>\n",
       "      <th>Artist</th>\n",
       "      <th>Link</th>\n",
       "      <th>Title</th>\n",
       "      <th>Year</th>\n",
       "      <th>Genre</th>\n",
       "    </tr>\n",
       "  </thead>\n",
       "  <tbody>\n",
       "    <tr>\n",
       "      <th>494</th>\n",
       "      <td>거북이</td>\n",
       "      <td>https://www.melon.com/song/detail.htm?songId=6...</td>\n",
       "      <td>빙고 (아싸)</td>\n",
       "      <td>2005</td>\n",
       "      <td>댄스</td>\n",
       "    </tr>\n",
       "    <tr>\n",
       "      <th>495</th>\n",
       "      <td>전혜빈</td>\n",
       "      <td>https://www.melon.com/song/detail.htm?songId=9...</td>\n",
       "      <td>2 A.M (2:00am)</td>\n",
       "      <td>2005</td>\n",
       "      <td>댄스</td>\n",
       "    </tr>\n",
       "    <tr>\n",
       "      <th>496</th>\n",
       "      <td>슈가</td>\n",
       "      <td>https://www.melon.com/song/detail.htm?songId=9...</td>\n",
       "      <td>현명한 이별</td>\n",
       "      <td>2005</td>\n",
       "      <td>댄스</td>\n",
       "    </tr>\n",
       "    <tr>\n",
       "      <th>497</th>\n",
       "      <td>나윤권</td>\n",
       "      <td>https://www.melon.com/song/detail.htm?songId=9...</td>\n",
       "      <td>기대</td>\n",
       "      <td>2005</td>\n",
       "      <td>발라드</td>\n",
       "    </tr>\n",
       "    <tr>\n",
       "      <th>498</th>\n",
       "      <td>클래지콰이</td>\n",
       "      <td>https://www.melon.com/song/detail.htm?songId=8...</td>\n",
       "      <td>She Is</td>\n",
       "      <td>2005</td>\n",
       "      <td>일렉트로니카, 국내드라마</td>\n",
       "    </tr>\n",
       "  </tbody>\n",
       "</table>\n",
       "</div>"
      ],
      "text/plain": [
       "    Artist                                               Link           Title  \\\n",
       "494    거북이  https://www.melon.com/song/detail.htm?songId=6...         빙고 (아싸)   \n",
       "495    전혜빈  https://www.melon.com/song/detail.htm?songId=9...  2 A.M (2:00am)   \n",
       "496     슈가  https://www.melon.com/song/detail.htm?songId=9...          현명한 이별   \n",
       "497    나윤권  https://www.melon.com/song/detail.htm?songId=9...              기대   \n",
       "498  클래지콰이  https://www.melon.com/song/detail.htm?songId=8...          She Is   \n",
       "\n",
       "     Year          Genre  \n",
       "494  2005             댄스  \n",
       "495  2005             댄스  \n",
       "496  2005             댄스  \n",
       "497  2005            발라드  \n",
       "498  2005  일렉트로니카, 국내드라마  "
      ]
     },
     "execution_count": 18,
     "metadata": {},
     "output_type": "execute_result"
    }
   ],
   "source": [
    "fourth_df['Genre'] = fourth_df['Link'].apply(get_genre)\n",
    "fourth_df.tail()"
   ]
  },
  {
   "cell_type": "code",
   "execution_count": 19,
   "metadata": {},
   "outputs": [],
   "source": [
    "fourth_df.to_csv('./datas/fifth.csv')"
   ]
  },
  {
   "cell_type": "markdown",
   "metadata": {},
   "source": [
    "### 2011~2015"
   ]
  },
  {
   "cell_type": "code",
   "execution_count": 28,
   "metadata": {},
   "outputs": [],
   "source": [
    "year = list(range(2011, 2016))"
   ]
  },
  {
   "cell_type": "code",
   "execution_count": 29,
   "metadata": {},
   "outputs": [],
   "source": [
    "result = []\n",
    "for y in year:\n",
    "    result.extend(song_details(y))"
   ]
  },
  {
   "cell_type": "code",
   "execution_count": 30,
   "metadata": {},
   "outputs": [
    {
     "data": {
      "text/html": [
       "<div>\n",
       "<style scoped>\n",
       "    .dataframe tbody tr th:only-of-type {\n",
       "        vertical-align: middle;\n",
       "    }\n",
       "\n",
       "    .dataframe tbody tr th {\n",
       "        vertical-align: top;\n",
       "    }\n",
       "\n",
       "    .dataframe thead th {\n",
       "        text-align: right;\n",
       "    }\n",
       "</style>\n",
       "<table border=\"1\" class=\"dataframe\">\n",
       "  <thead>\n",
       "    <tr style=\"text-align: right;\">\n",
       "      <th></th>\n",
       "      <th>Artist</th>\n",
       "      <th>Link</th>\n",
       "      <th>Title</th>\n",
       "      <th>Year</th>\n",
       "    </tr>\n",
       "  </thead>\n",
       "  <tbody>\n",
       "    <tr>\n",
       "      <th>495</th>\n",
       "      <td>블락비 바스타즈</td>\n",
       "      <td>https://www.melon.com/song/detail.htm?songId=5...</td>\n",
       "      <td>품행제로</td>\n",
       "      <td>2015</td>\n",
       "    </tr>\n",
       "    <tr>\n",
       "      <th>496</th>\n",
       "      <td>김범수</td>\n",
       "      <td>https://www.melon.com/song/detail.htm?songId=5...</td>\n",
       "      <td>사랑의 시작은 고백에서부터</td>\n",
       "      <td>2015</td>\n",
       "    </tr>\n",
       "    <tr>\n",
       "      <th>497</th>\n",
       "      <td>가인</td>\n",
       "      <td>https://www.melon.com/song/detail.htm?songId=5...</td>\n",
       "      <td>Apple (Feat. 박재범)</td>\n",
       "      <td>2015</td>\n",
       "    </tr>\n",
       "    <tr>\n",
       "      <th>498</th>\n",
       "      <td>지코 (ZICO)</td>\n",
       "      <td>https://www.melon.com/song/detail.htm?songId=5...</td>\n",
       "      <td>아프다</td>\n",
       "      <td>2015</td>\n",
       "    </tr>\n",
       "    <tr>\n",
       "      <th>499</th>\n",
       "      <td>소유 (SOYOU)</td>\n",
       "      <td>https://www.melon.com/song/detail.htm?songId=7...</td>\n",
       "      <td>모르나봐</td>\n",
       "      <td>2015</td>\n",
       "    </tr>\n",
       "  </tbody>\n",
       "</table>\n",
       "</div>"
      ],
      "text/plain": [
       "         Artist                                               Link  \\\n",
       "495    블락비 바스타즈  https://www.melon.com/song/detail.htm?songId=5...   \n",
       "496         김범수  https://www.melon.com/song/detail.htm?songId=5...   \n",
       "497          가인  https://www.melon.com/song/detail.htm?songId=5...   \n",
       "498   지코 (ZICO)  https://www.melon.com/song/detail.htm?songId=5...   \n",
       "499  소유 (SOYOU)  https://www.melon.com/song/detail.htm?songId=7...   \n",
       "\n",
       "                 Title  Year  \n",
       "495               품행제로  2015  \n",
       "496     사랑의 시작은 고백에서부터  2015  \n",
       "497  Apple (Feat. 박재범)  2015  \n",
       "498                아프다  2015  \n",
       "499               모르나봐  2015  "
      ]
     },
     "execution_count": 30,
     "metadata": {},
     "output_type": "execute_result"
    }
   ],
   "source": [
    "fifth_df = pd.DataFrame(result)\n",
    "fifth_df.tail()"
   ]
  },
  {
   "cell_type": "code",
   "execution_count": 31,
   "metadata": {},
   "outputs": [
    {
     "data": {
      "text/html": [
       "<div>\n",
       "<style scoped>\n",
       "    .dataframe tbody tr th:only-of-type {\n",
       "        vertical-align: middle;\n",
       "    }\n",
       "\n",
       "    .dataframe tbody tr th {\n",
       "        vertical-align: top;\n",
       "    }\n",
       "\n",
       "    .dataframe thead th {\n",
       "        text-align: right;\n",
       "    }\n",
       "</style>\n",
       "<table border=\"1\" class=\"dataframe\">\n",
       "  <thead>\n",
       "    <tr style=\"text-align: right;\">\n",
       "      <th></th>\n",
       "      <th>Artist</th>\n",
       "      <th>Link</th>\n",
       "      <th>Title</th>\n",
       "      <th>Year</th>\n",
       "      <th>Genre</th>\n",
       "    </tr>\n",
       "  </thead>\n",
       "  <tbody>\n",
       "    <tr>\n",
       "      <th>495</th>\n",
       "      <td>블락비 바스타즈</td>\n",
       "      <td>https://www.melon.com/song/detail.htm?songId=5...</td>\n",
       "      <td>품행제로</td>\n",
       "      <td>2015</td>\n",
       "      <td>댄스</td>\n",
       "    </tr>\n",
       "    <tr>\n",
       "      <th>496</th>\n",
       "      <td>김범수</td>\n",
       "      <td>https://www.melon.com/song/detail.htm?songId=5...</td>\n",
       "      <td>사랑의 시작은 고백에서부터</td>\n",
       "      <td>2015</td>\n",
       "      <td>발라드, 국내드라마</td>\n",
       "    </tr>\n",
       "    <tr>\n",
       "      <th>497</th>\n",
       "      <td>가인</td>\n",
       "      <td>https://www.melon.com/song/detail.htm?songId=5...</td>\n",
       "      <td>Apple (Feat. 박재범)</td>\n",
       "      <td>2015</td>\n",
       "      <td>댄스</td>\n",
       "    </tr>\n",
       "    <tr>\n",
       "      <th>498</th>\n",
       "      <td>지코 (ZICO)</td>\n",
       "      <td>https://www.melon.com/song/detail.htm?songId=5...</td>\n",
       "      <td>아프다</td>\n",
       "      <td>2015</td>\n",
       "      <td>발라드, 랩/힙합, 국내드라마</td>\n",
       "    </tr>\n",
       "    <tr>\n",
       "      <th>499</th>\n",
       "      <td>소유 (SOYOU)</td>\n",
       "      <td>https://www.melon.com/song/detail.htm?songId=7...</td>\n",
       "      <td>모르나봐</td>\n",
       "      <td>2015</td>\n",
       "      <td>발라드, 국내드라마</td>\n",
       "    </tr>\n",
       "  </tbody>\n",
       "</table>\n",
       "</div>"
      ],
      "text/plain": [
       "         Artist                                               Link  \\\n",
       "495    블락비 바스타즈  https://www.melon.com/song/detail.htm?songId=5...   \n",
       "496         김범수  https://www.melon.com/song/detail.htm?songId=5...   \n",
       "497          가인  https://www.melon.com/song/detail.htm?songId=5...   \n",
       "498   지코 (ZICO)  https://www.melon.com/song/detail.htm?songId=5...   \n",
       "499  소유 (SOYOU)  https://www.melon.com/song/detail.htm?songId=7...   \n",
       "\n",
       "                 Title  Year             Genre  \n",
       "495               품행제로  2015                댄스  \n",
       "496     사랑의 시작은 고백에서부터  2015        발라드, 국내드라마  \n",
       "497  Apple (Feat. 박재범)  2015                댄스  \n",
       "498                아프다  2015  발라드, 랩/힙합, 국내드라마  \n",
       "499               모르나봐  2015        발라드, 국내드라마  "
      ]
     },
     "execution_count": 31,
     "metadata": {},
     "output_type": "execute_result"
    }
   ],
   "source": [
    "fifth_df['Genre'] = fifth_df['Link'].apply(get_genre)\n",
    "fifth_df.tail()"
   ]
  },
  {
   "cell_type": "code",
   "execution_count": 32,
   "metadata": {},
   "outputs": [],
   "source": [
    "fifth_df.to_csv('./datas/seventh.csv')"
   ]
  },
  {
   "cell_type": "code",
   "execution_count": null,
   "metadata": {},
   "outputs": [],
   "source": []
  }
 ],
 "metadata": {
  "kernelspec": {
   "display_name": "Python 3",
   "language": "python",
   "name": "python3"
  },
  "language_info": {
   "codemirror_mode": {
    "name": "ipython",
    "version": 3
   },
   "file_extension": ".py",
   "mimetype": "text/x-python",
   "name": "python",
   "nbconvert_exporter": "python",
   "pygments_lexer": "ipython3",
   "version": "3.6.9"
  }
 },
 "nbformat": 4,
 "nbformat_minor": 4
}