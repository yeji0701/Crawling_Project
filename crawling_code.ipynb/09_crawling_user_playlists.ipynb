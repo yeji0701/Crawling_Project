{
 "cells": [
  {
   "cell_type": "code",
   "execution_count": null,
   "metadata": {},
   "outputs": [],
   "source": [
    "### Crawling my own melon playlist"
   ]
  },
  {
   "cell_type": "code",
   "execution_count": 1,
   "metadata": {},
   "outputs": [],
   "source": [
    "import requests\n",
    "from bs4 import BeautifulSoup\n",
    "from fake_useragent import UserAgent\n",
    "import pandas as pd"
   ]
  },
  {
   "cell_type": "code",
   "execution_count": 2,
   "metadata": {},
   "outputs": [],
   "source": [
    "seq = \"PLAYLIST_NUMBER\"\n",
    "url = \"https://www.melon.com/mymusic/playlist/mymusicplaylistview_listSong.htm?plylstSeq={}\".format(seq)\n",
    "headers = {\"User-Agent\" : UserAgent().chrome}\n",
    "response = requests.get(url, headers=headers)\n",
    "dom = BeautifulSoup(response.text, 'html.parser')"
   ]
  },
  {
   "cell_type": "code",
   "execution_count": 3,
   "metadata": {},
   "outputs": [
    {
     "output_type": "execute_result",
     "data": {
      "text/plain": [
       "<Response [200]>"
      ]
     },
     "metadata": {},
     "execution_count": 3
    }
   ],
   "source": [
    "response"
   ]
  },
  {
   "cell_type": "code",
   "execution_count": 4,
   "metadata": {
    "scrolled": true
   },
   "outputs": [
    {
     "output_type": "execute_result",
     "data": {
      "text/plain": [
       "50"
      ]
     },
     "metadata": {},
     "execution_count": 4
    }
   ],
   "source": [
    "elements = dom.select(\"#frm > div > table > tbody tr\")\n",
    "len(elements)"
   ]
  },
  {
   "cell_type": "code",
   "execution_count": 5,
   "metadata": {},
   "outputs": [],
   "source": [
    "element = elements[0]"
   ]
  },
  {
   "cell_type": "code",
   "execution_count": 6,
   "metadata": {},
   "outputs": [
    {
     "output_type": "stream",
     "name": "stdout",
     "text": [
      "https://www.melon.com/song/detail.htm?songId=732516\n"
     ]
    },
    {
     "output_type": "execute_result",
     "data": {
      "text/plain": [
       "('버즈', '나에게로 떠나는 여행', None)"
      ]
     },
     "metadata": {},
     "execution_count": 6
    }
   ],
   "source": [
    "artist = element.select_one(\"div.ellipsis > a.fc_mgray\").text.replace('\\n', '')\n",
    "title = element.select_one(\"div.ellipsis > a.fc_gray\").text\n",
    "link = 'https://www.melon.com/song/detail.htm?songId=' + element.select_one('td > div > input').get('value')\n",
    "\n",
    "artist, title, print(link)"
   ]
  },
  {
   "cell_type": "code",
   "execution_count": 7,
   "metadata": {
    "collapsed": true
   },
   "outputs": [
    {
     "output_type": "execute_result",
     "data": {
      "text/plain": [
       "[{'Title': '나에게로 떠나는 여행', 'Artist': '버즈'},\n",
       " {'Title': '나비소녀 (Don`t Go)', 'Artist': 'EXO'},\n",
       " {'Title': '피터팬 (Peter Pan)', 'Artist': 'EXO'},\n",
       " {'Title': 'Baby, Don`t Cry (인어의 눈물)', 'Artist': 'EXO'},\n",
       " {'Title': '코끝에 겨울', 'Artist': '어반자카파'},\n",
       " {'Title': '거꾸로 걷는다', 'Artist': '어반자카파'},\n",
       " {'Title': '서울 밤 (feat. 빈지노)', 'Artist': '어반자카파'},\n",
       " {'Title': '그때의 나, 그때의 우리', 'Artist': '어반자카파'},\n",
       " {'Title': 'Boogie On & On', 'Artist': '빈지노 (Beenzino)'},\n",
       " {'Title': '목요일 밤 (Feat. 빈지노)', 'Artist': '어반자카파'},\n",
       " {'Title': '나빠(NAPPA)', 'Artist': 'Crush'},\n",
       " {'Title': 'Tip Toe (with 이하이)', 'Artist': 'Crush'},\n",
       " {'Title': '감아 (Feat. Crush)', 'Artist': '로꼬'},\n",
       " {'Title': 'Madeleine Love', 'Artist': 'CHEEZE (치즈)'},\n",
       " {'Title': '어떻게 생각해', 'Artist': 'CHEEZE (치즈)'},\n",
       " {'Title': 'Mood Indigo', 'Artist': 'CHEEZE (치즈)'},\n",
       " {'Title': '영화 같던 날', 'Artist': 'CHEEZE (치즈)'},\n",
       " {'Title': '연애 같은 걸 하니까', 'Artist': '소란 (SORAN)'},\n",
       " {'Title': '나만 알고 싶다', 'Artist': '소란 (SORAN)'},\n",
       " {'Title': '가을목이', 'Artist': '소란 (SORAN)'},\n",
       " {'Title': 'Perfect Day', 'Artist': '소란 (SORAN)'},\n",
       " {'Title': '미쳤나봐', 'Artist': '소란 (SORAN), 권정열'},\n",
       " {'Title': 'Mayday', 'Artist': 'VICTON (빅톤)'},\n",
       " {'Title': 'Howling', 'Artist': 'VICTON (빅톤)'},\n",
       " {'Title': '그리운 밤', 'Artist': 'VICTON (빅톤)'},\n",
       " {'Title': '오월애 (俉月哀)', 'Artist': 'VICTON (빅톤)'},\n",
       " {'Title': 'Celebrate', 'Artist': 'VICTON (빅톤)'},\n",
       " {'Title': '나를 기억해', 'Artist': 'VICTON (빅톤)'},\n",
       " {'Title': 'TIMELINE', 'Artist': 'VICTON (빅톤)'},\n",
       " {'Title': '말도 안돼', 'Artist': 'VICTON (빅톤)'},\n",
       " {'Title': '얼타', 'Artist': 'VICTON (빅톤)'},\n",
       " {'Title': '아무렇지 않은 척', 'Artist': 'VICTON (빅톤)'},\n",
       " {'Title': '양화대교', 'Artist': 'Zion.T'},\n",
       " {'Title': 'Oasis (Feat. ZICO)', 'Artist': 'Crush'},\n",
       " {'Title': '또 운다 또', 'Artist': '다비치'},\n",
       " {'Title': '너에게', 'Artist': '다비치'},\n",
       " {'Title': '환청 (Feat. 나쑈 (NaShow))', 'Artist': '장재인'},\n",
       " {'Title': '큰새', 'Artist': '혁오 (HYUKOH)'},\n",
       " {'Title': '아끼지마 (Don`t Be Shy) (Feat. 초아 (AOA), 아이언)', 'Artist': '프라이머리'},\n",
       " {'Title': '나였으면', 'Artist': '나윤권'},\n",
       " {'Title': '친구라도 될 걸 그랬어', 'Artist': '거미'},\n",
       " {'Title': '선곡표 (Feat. DJ Zio)', 'Artist': '에픽하이 (EPIK HIGH)'},\n",
       " {'Title': '늦은후회', 'Artist': '보보'},\n",
       " {'Title': 'Apple (Feat. 박재범)', 'Artist': '가인'},\n",
       " {'Title': '어쩌라고 (So What)', 'Artist': '빈지노 (Beenzino)'},\n",
       " {'Title': '잊는다는 게', 'Artist': '윤현상'},\n",
       " {'Title': '오래된 노래', 'Artist': '스탠딩 에그'},\n",
       " {'Title': '꽃 (Feat. 타블로 Of 에픽하이)', 'Artist': 'XIA (준수)'},\n",
       " {'Title': 'Little Star', 'Artist': '스탠딩 에그'},\n",
       " {'Title': '홀로 (Feat. 김나영)', 'Artist': '정키'}]"
      ]
     },
     "metadata": {},
     "execution_count": 7
    }
   ],
   "source": [
    "datas = []\n",
    "for element in elements:\n",
    "    data = {\n",
    "        \"Title\" : element.select_one(\"a.fc_gray\").text,\n",
    "        \"Artist\" : element.select_one(\"#artistName\").text.replace('\\n', '')\n",
    "    }\n",
    "    datas.append(data)\n",
    "datas"
   ]
  },
  {
   "cell_type": "code",
   "execution_count": 8,
   "metadata": {},
   "outputs": [],
   "source": [
    "# 유저 플레이리스트 수집 함수"
   ]
  },
  {
   "cell_type": "code",
   "execution_count": 9,
   "metadata": {},
   "outputs": [],
   "source": [
    "def playlist(seq):\n",
    "\n",
    "        url = \"https://www.melon.com/mymusic/playlist/mymusicplaylistview_listSong.htm?plylstSeq={}\".format(seq)\n",
    "        headers = {\n",
    "            \"User-Agent\" : UserAgent().chrome\n",
    "        }\n",
    "        response = requests.get(url, headers=headers)\n",
    "        dom = BeautifulSoup(response.text, 'html.parser')\n",
    "        elements = dom.select(\"#frm > div > table > tbody tr\")\n",
    "        \n",
    "        datas = []\n",
    "        for element in elements:\n",
    "            data = {\n",
    "                \"Title\" : element.select_one(\"a.fc_gray\").text,\n",
    "                \"Artist\" : element.select_one(\"#artistName\").text.replace('\\n', ''),\n",
    "                \"Link\" : 'https://www.melon.com/song/detail.htm?songId=' + element.select_one('td > div > input').get('value')\n",
    "                }\n",
    "            datas.append(data)\n",
    "    \n",
    "        return pd.DataFrame(datas)"
   ]
  },
  {
   "cell_type": "code",
   "execution_count": 22,
   "metadata": {},
   "outputs": [
    {
     "output_type": "stream",
     "name": "stdout",
     "text": [
      "https://www.melon.com/song/detail.htm?songId=732516\n"
     ]
    }
   ],
   "source": [
    "link = yj_list.loc[0, 'Link']\n",
    "print(link)"
   ]
  },
  {
   "cell_type": "code",
   "execution_count": 11,
   "metadata": {},
   "outputs": [
    {
     "output_type": "execute_result",
     "data": {
      "text/plain": [
       "<Response [200]>"
      ]
     },
     "metadata": {},
     "execution_count": 11
    }
   ],
   "source": [
    "headers = {\"User-Agent\" : UserAgent().chrome}\n",
    "response = requests.get(link, headers=headers)\n",
    "dom = BeautifulSoup(response.content, 'html.parser')\n",
    "response"
   ]
  },
  {
   "cell_type": "code",
   "execution_count": 12,
   "metadata": {},
   "outputs": [
    {
     "output_type": "execute_result",
     "data": {
      "text/plain": [
       "'록/메탈'"
      ]
     },
     "metadata": {},
     "execution_count": 12
    }
   ],
   "source": [
    "elements = dom.select_one('dd:nth-of-type(3)').text\n",
    "elements"
   ]
  },
  {
   "cell_type": "code",
   "execution_count": 13,
   "metadata": {},
   "outputs": [],
   "source": [
    "# 유저 플레이리스트의 장르 수집 함수"
   ]
  },
  {
   "cell_type": "code",
   "execution_count": 17,
   "metadata": {},
   "outputs": [],
   "source": [
    "def playlist_genre(link):\n",
    "    headers = {\"User-Agent\" : UserAgent().chrome}\n",
    "    response = requests.get(link, headers=headers)\n",
    "    dom = BeautifulSoup(response.content, 'html.parser')\n",
    "    \n",
    "    return dom.select_one('dd:nth-of-type(3)').text"
   ]
  },
  {
   "cell_type": "code",
   "execution_count": 18,
   "metadata": {},
   "outputs": [],
   "source": [
    "def get_lyrics(link):\n",
    "    headers = {\"User-Agent\" : UserAgent().chrome}\n",
    "    response = requests.get(link, headers=headers)\n",
    "    dom = BeautifulSoup(response.content, 'html.parser')\n",
    "    elements = dom.select_one('.wrap_lyric').text.replace('\\r', '').replace('\\n', '').replace('\\t', '').split('펼치기')[0]\n",
    "    if elements == '[가사 준비중] 멜론 회원 여러분! 가사 등록을 기다리고 있어요.가사등록하기':\n",
    "        elements = '-'\n",
    "        \n",
    "    return elements"
   ]
  },
  {
   "cell_type": "code",
   "execution_count": 19,
   "metadata": {},
   "outputs": [],
   "source": [
    "yj_list = playlist(seq)"
   ]
  },
  {
   "cell_type": "code",
   "execution_count": 20,
   "metadata": {},
   "outputs": [
    {
     "output_type": "execute_result",
     "data": {
      "text/plain": [
       "                    Title    Artist  \\\n",
       "45                 잊는다는 게       윤현상   \n",
       "46                 오래된 노래    스탠딩 에그   \n",
       "47  꽃 (Feat. 타블로 Of 에픽하이)  XIA (준수)   \n",
       "48            Little Star    스탠딩 에그   \n",
       "49         홀로 (Feat. 김나영)        정키   \n",
       "\n",
       "                                                 Link         Genre  \n",
       "45  https://www.melon.com/song/detail.htm?songId=5...           발라드  \n",
       "46  https://www.melon.com/song/detail.htm?songId=3...  인디음악, 포크/블루스  \n",
       "47  https://www.melon.com/song/detail.htm?songId=5...     R&B;/Soul  \n",
       "48  https://www.melon.com/song/detail.htm?songId=3...  인디음악, 포크/블루스  \n",
       "49  https://www.melon.com/song/detail.htm?songId=3...           발라드  "
      ],
      "text/html": "<div>\n<style scoped>\n    .dataframe tbody tr th:only-of-type {\n        vertical-align: middle;\n    }\n\n    .dataframe tbody tr th {\n        vertical-align: top;\n    }\n\n    .dataframe thead th {\n        text-align: right;\n    }\n</style>\n<table border=\"1\" class=\"dataframe\">\n  <thead>\n    <tr style=\"text-align: right;\">\n      <th></th>\n      <th>Title</th>\n      <th>Artist</th>\n      <th>Link</th>\n      <th>Genre</th>\n    </tr>\n  </thead>\n  <tbody>\n    <tr>\n      <th>45</th>\n      <td>잊는다는 게</td>\n      <td>윤현상</td>\n      <td>https://www.melon.com/song/detail.htm?songId=5...</td>\n      <td>발라드</td>\n    </tr>\n    <tr>\n      <th>46</th>\n      <td>오래된 노래</td>\n      <td>스탠딩 에그</td>\n      <td>https://www.melon.com/song/detail.htm?songId=3...</td>\n      <td>인디음악, 포크/블루스</td>\n    </tr>\n    <tr>\n      <th>47</th>\n      <td>꽃 (Feat. 타블로 Of 에픽하이)</td>\n      <td>XIA (준수)</td>\n      <td>https://www.melon.com/song/detail.htm?songId=5...</td>\n      <td>R&amp;B;/Soul</td>\n    </tr>\n    <tr>\n      <th>48</th>\n      <td>Little Star</td>\n      <td>스탠딩 에그</td>\n      <td>https://www.melon.com/song/detail.htm?songId=3...</td>\n      <td>인디음악, 포크/블루스</td>\n    </tr>\n    <tr>\n      <th>49</th>\n      <td>홀로 (Feat. 김나영)</td>\n      <td>정키</td>\n      <td>https://www.melon.com/song/detail.htm?songId=3...</td>\n      <td>발라드</td>\n    </tr>\n  </tbody>\n</table>\n</div>"
     },
     "metadata": {},
     "execution_count": 20
    }
   ],
   "source": [
    "yj_list['Genre'] = yj_list['Link'].apply(playlist_genre)\n",
    "yj_list.tail()"
   ]
  },
  {
   "cell_type": "code",
   "execution_count": 21,
   "metadata": {},
   "outputs": [
    {
     "output_type": "execute_result",
     "data": {
      "text/plain": [
       "                    Title    Artist  \\\n",
       "45                 잊는다는 게       윤현상   \n",
       "46                 오래된 노래    스탠딩 에그   \n",
       "47  꽃 (Feat. 타블로 Of 에픽하이)  XIA (준수)   \n",
       "48            Little Star    스탠딩 에그   \n",
       "49         홀로 (Feat. 김나영)        정키   \n",
       "\n",
       "                                                 Link         Genre  \\\n",
       "45  https://www.melon.com/song/detail.htm?songId=5...           발라드   \n",
       "46  https://www.melon.com/song/detail.htm?songId=3...  인디음악, 포크/블루스   \n",
       "47  https://www.melon.com/song/detail.htm?songId=5...     R&B;/Soul   \n",
       "48  https://www.melon.com/song/detail.htm?songId=3...  인디음악, 포크/블루스   \n",
       "49  https://www.melon.com/song/detail.htm?songId=3...           발라드   \n",
       "\n",
       "                                               Lyrics  \n",
       "45  잊는다는 게 참 그래요사랑하다가 이별하게 되면그때서야 못해줬던 게 생각이 나요꼭 어...  \n",
       "46  오래 전에 함께 듣던 노래가발걸음을 다시 멈춰서게 해이 거리에서너를 느낄 수 있어널...  \n",
       "47  Take my handYou know I’m here with youSay my n...  \n",
       "48  눈을 감고내가 하는 이야기를 잘 들어봐나의 얘기가 끝나기 전에너는 꿈을 꿀거야Lit...  \n",
       "49  아침에 눈을 떴을 때텅 빈 방안에 나 홀로 니 빈자리 거닐면서많은 생각들에 잠겨지워...  "
      ],
      "text/html": "<div>\n<style scoped>\n    .dataframe tbody tr th:only-of-type {\n        vertical-align: middle;\n    }\n\n    .dataframe tbody tr th {\n        vertical-align: top;\n    }\n\n    .dataframe thead th {\n        text-align: right;\n    }\n</style>\n<table border=\"1\" class=\"dataframe\">\n  <thead>\n    <tr style=\"text-align: right;\">\n      <th></th>\n      <th>Title</th>\n      <th>Artist</th>\n      <th>Link</th>\n      <th>Genre</th>\n      <th>Lyrics</th>\n    </tr>\n  </thead>\n  <tbody>\n    <tr>\n      <th>45</th>\n      <td>잊는다는 게</td>\n      <td>윤현상</td>\n      <td>https://www.melon.com/song/detail.htm?songId=5...</td>\n      <td>발라드</td>\n      <td>잊는다는 게 참 그래요사랑하다가 이별하게 되면그때서야 못해줬던 게 생각이 나요꼭 어...</td>\n    </tr>\n    <tr>\n      <th>46</th>\n      <td>오래된 노래</td>\n      <td>스탠딩 에그</td>\n      <td>https://www.melon.com/song/detail.htm?songId=3...</td>\n      <td>인디음악, 포크/블루스</td>\n      <td>오래 전에 함께 듣던 노래가발걸음을 다시 멈춰서게 해이 거리에서너를 느낄 수 있어널...</td>\n    </tr>\n    <tr>\n      <th>47</th>\n      <td>꽃 (Feat. 타블로 Of 에픽하이)</td>\n      <td>XIA (준수)</td>\n      <td>https://www.melon.com/song/detail.htm?songId=5...</td>\n      <td>R&amp;B;/Soul</td>\n      <td>Take my handYou know I’m here with youSay my n...</td>\n    </tr>\n    <tr>\n      <th>48</th>\n      <td>Little Star</td>\n      <td>스탠딩 에그</td>\n      <td>https://www.melon.com/song/detail.htm?songId=3...</td>\n      <td>인디음악, 포크/블루스</td>\n      <td>눈을 감고내가 하는 이야기를 잘 들어봐나의 얘기가 끝나기 전에너는 꿈을 꿀거야Lit...</td>\n    </tr>\n    <tr>\n      <th>49</th>\n      <td>홀로 (Feat. 김나영)</td>\n      <td>정키</td>\n      <td>https://www.melon.com/song/detail.htm?songId=3...</td>\n      <td>발라드</td>\n      <td>아침에 눈을 떴을 때텅 빈 방안에 나 홀로 니 빈자리 거닐면서많은 생각들에 잠겨지워...</td>\n    </tr>\n  </tbody>\n</table>\n</div>"
     },
     "metadata": {},
     "execution_count": 21
    }
   ],
   "source": [
    "yj_list['Lyrics'] = yj_list['Link'].apply(get_lyrics)\n",
    "yj_list.tail()"
   ]
  },
  {
   "cell_type": "code",
   "execution_count": 24,
   "metadata": {},
   "outputs": [],
   "source": [
    "yj_list.to_csv('C:/Users/luvu1/Documents/dss15/crawling_project/datas/yj_list.csv')"
   ]
  },
  {
   "cell_type": "code",
   "execution_count": null,
   "metadata": {},
   "outputs": [],
   "source": []
  }
 ],
 "metadata": {
  "kernelspec": {
   "display_name": "Python 3",
   "language": "python",
   "name": "python3"
  },
  "language_info": {
   "codemirror_mode": {
    "name": "ipython",
    "version": 3
   },
   "file_extension": ".py",
   "mimetype": "text/x-python",
   "name": "python",
   "nbconvert_exporter": "python",
   "pygments_lexer": "ipython3",
   "version": "3.8.3-final"
  }
 },
 "nbformat": 4,
 "nbformat_minor": 4
}