{
 "metadata": {
  "language_info": {
   "codemirror_mode": {
    "name": "ipython",
    "version": 3
   },
   "file_extension": ".py",
   "mimetype": "text/x-python",
   "name": "python",
   "nbconvert_exporter": "python",
   "pygments_lexer": "ipython3",
   "version": "3.8.3-final"
  },
  "orig_nbformat": 2,
  "kernelspec": {
   "name": "python3",
   "display_name": "Python 3"
  }
 },
 "nbformat": 4,
 "nbformat_minor": 2,
 "cells": [
  {
   "cell_type": "code",
   "execution_count": 1,
   "metadata": {},
   "outputs": [],
   "source": [
    "import pandas as pd"
   ]
  },
  {
   "cell_type": "code",
   "execution_count": 9,
   "metadata": {},
   "outputs": [
    {
     "output_type": "execute_result",
     "data": {
      "text/plain": [
       "         Artist Genre                                             Lyrics  \\\n",
       "0           금호동  성인가요  하루의 일을 끝내고 돌아가는거리엔 사람의 물결하늘엔 별이 하나 둘 반짝이면가로등 하...   \n",
       "1           최숙자  성인가요  조기를 담뿍잡아기폭을 올리고온다던 그배는어이하여 아니오나수평선 바라보며그이름 부르면...   \n",
       "2           이미자  성인가요  <1절 임이라 부르리까 당신이라고 부르리까 사랑을 하면서도 사랑을 참고사는 마음으로...   \n",
       "3           이미자  성인가요  헤일 수 없이 수많은 밤을내 가슴 도려내는 아픔에 겨워얼마나 울었던가 동백아가씨그리...   \n",
       "4            현미  성인가요  그 날 밤 그 자리에둘이서 만났을 때똑같은 그 순간에똑같은 마음이달빛에 젖은 채밤새...   \n",
       "...         ...   ...                                                ...   \n",
       "4253        아이유  록/메탈  ‘뭐해?‘라는 두 글자에‘네가 보고 싶어’ 나의 속마음을 담아 우이모티콘 하나하나 ...   \n",
       "4254        MC몽  랩/힙합  우선 캐릭터는 분명해야 해요 X 같은 XX철부지같이 굴면Fail 해요 Next 바로...   \n",
       "4255  ITZY (있지)    댄스  Hey hey hey yass whoo Beep beep Hey hey hey he...   \n",
       "4256  Lil tachi  랩/힙합  멋이 다 흘러흘러서 넘쳐멀어 버렸어배로 막 벌어멋이 다 흘러멋이 다 흘러배로 막 벌...   \n",
       "4257        홍진영  성인가요  오늘 밤에 아무도 모르게너랑 둘이서 둘이서 사랑을 할거야오늘 밤에 아무도 모르게뚜뚜...   \n",
       "\n",
       "                    Title  Year  \n",
       "0                내일또 만납시다  1964  \n",
       "1                 눈물의 연평도  1964  \n",
       "2                님이라 부르리까  1964  \n",
       "3                   동백아가씨  1964  \n",
       "4                떠날때는 말없이  1964  \n",
       "...                   ...   ...  \n",
       "4253             Blueming  2019  \n",
       "4254  인기 (Feat. 송가인, 챈슬러)  2019  \n",
       "4255                  ICY  2019  \n",
       "4256       눈 (Prod. 기리보이)  2019  \n",
       "4257                오늘 밤에  2019  \n",
       "\n",
       "[4258 rows x 5 columns]"
      ],
      "text/html": "<div>\n<style scoped>\n    .dataframe tbody tr th:only-of-type {\n        vertical-align: middle;\n    }\n\n    .dataframe tbody tr th {\n        vertical-align: top;\n    }\n\n    .dataframe thead th {\n        text-align: right;\n    }\n</style>\n<table border=\"1\" class=\"dataframe\">\n  <thead>\n    <tr style=\"text-align: right;\">\n      <th></th>\n      <th>Artist</th>\n      <th>Genre</th>\n      <th>Lyrics</th>\n      <th>Title</th>\n      <th>Year</th>\n    </tr>\n  </thead>\n  <tbody>\n    <tr>\n      <th>0</th>\n      <td>금호동</td>\n      <td>성인가요</td>\n      <td>하루의 일을 끝내고 돌아가는거리엔 사람의 물결하늘엔 별이 하나 둘 반짝이면가로등 하...</td>\n      <td>내일또 만납시다</td>\n      <td>1964</td>\n    </tr>\n    <tr>\n      <th>1</th>\n      <td>최숙자</td>\n      <td>성인가요</td>\n      <td>조기를 담뿍잡아기폭을 올리고온다던 그배는어이하여 아니오나수평선 바라보며그이름 부르면...</td>\n      <td>눈물의 연평도</td>\n      <td>1964</td>\n    </tr>\n    <tr>\n      <th>2</th>\n      <td>이미자</td>\n      <td>성인가요</td>\n      <td>&lt;1절 임이라 부르리까 당신이라고 부르리까 사랑을 하면서도 사랑을 참고사는 마음으로...</td>\n      <td>님이라 부르리까</td>\n      <td>1964</td>\n    </tr>\n    <tr>\n      <th>3</th>\n      <td>이미자</td>\n      <td>성인가요</td>\n      <td>헤일 수 없이 수많은 밤을내 가슴 도려내는 아픔에 겨워얼마나 울었던가 동백아가씨그리...</td>\n      <td>동백아가씨</td>\n      <td>1964</td>\n    </tr>\n    <tr>\n      <th>4</th>\n      <td>현미</td>\n      <td>성인가요</td>\n      <td>그 날 밤 그 자리에둘이서 만났을 때똑같은 그 순간에똑같은 마음이달빛에 젖은 채밤새...</td>\n      <td>떠날때는 말없이</td>\n      <td>1964</td>\n    </tr>\n    <tr>\n      <th>...</th>\n      <td>...</td>\n      <td>...</td>\n      <td>...</td>\n      <td>...</td>\n      <td>...</td>\n    </tr>\n    <tr>\n      <th>4253</th>\n      <td>아이유</td>\n      <td>록/메탈</td>\n      <td>‘뭐해?‘라는 두 글자에‘네가 보고 싶어’ 나의 속마음을 담아 우이모티콘 하나하나 ...</td>\n      <td>Blueming</td>\n      <td>2019</td>\n    </tr>\n    <tr>\n      <th>4254</th>\n      <td>MC몽</td>\n      <td>랩/힙합</td>\n      <td>우선 캐릭터는 분명해야 해요 X 같은 XX철부지같이 굴면Fail 해요 Next 바로...</td>\n      <td>인기 (Feat. 송가인, 챈슬러)</td>\n      <td>2019</td>\n    </tr>\n    <tr>\n      <th>4255</th>\n      <td>ITZY (있지)</td>\n      <td>댄스</td>\n      <td>Hey hey hey yass whoo Beep beep Hey hey hey he...</td>\n      <td>ICY</td>\n      <td>2019</td>\n    </tr>\n    <tr>\n      <th>4256</th>\n      <td>Lil tachi</td>\n      <td>랩/힙합</td>\n      <td>멋이 다 흘러흘러서 넘쳐멀어 버렸어배로 막 벌어멋이 다 흘러멋이 다 흘러배로 막 벌...</td>\n      <td>눈 (Prod. 기리보이)</td>\n      <td>2019</td>\n    </tr>\n    <tr>\n      <th>4257</th>\n      <td>홍진영</td>\n      <td>성인가요</td>\n      <td>오늘 밤에 아무도 모르게너랑 둘이서 둘이서 사랑을 할거야오늘 밤에 아무도 모르게뚜뚜...</td>\n      <td>오늘 밤에</td>\n      <td>2019</td>\n    </tr>\n  </tbody>\n</table>\n<p>4258 rows × 5 columns</p>\n</div>"
     },
     "metadata": {},
     "execution_count": 9
    }
   ],
   "source": [
    "df = pd.read_csv(\"C:/Users/luvu1/Documents/dss15/crawling_project/datas/final2019(rev4).csv\", encoding='utf-8', index_col=[0])\n",
    "df"
   ]
  },
  {
   "cell_type": "code",
   "execution_count": 18,
   "metadata": {},
   "outputs": [],
   "source": [
    "# select year \n",
    "# 1980 ~ \n",
    "df = df[df[\"Year\"] >= 1980].reset_index(drop = True)"
   ]
  },
  {
   "cell_type": "code",
   "execution_count": 22,
   "metadata": {},
   "outputs": [],
   "source": [
    "# make year_range\n",
    "\n",
    "## elements \n",
    "bins = round((np.max(df[\"Year\"]) - np.min(df[\"Year\"]))/4)\n",
    "labels = []\n",
    "for i in (range(np.min(df[\"Year\"]) , np.max(df[\"Year\"]) +1,4)):\n",
    "    labels.append(str(i) + '-' + str(i+3))\n",
    "\n",
    "\n",
    "# Divided by  four-year cycles\n",
    "## ex) 1980-1983 , ... ,2016-2019\n",
    "df['year_range'] = pd.cut(x=df['Year'], bins= bins ,labels=labels)"
   ]
  },
  {
   "cell_type": "code",
   "execution_count": 23,
   "metadata": {},
   "outputs": [],
   "source": [
    "# Count by genre\n",
    "\n",
    "# 1. make count columns\n",
    "df[\"count\"] = 1\n",
    "\n",
    "# pivoting!!\n",
    "df_pivot = pd.pivot_table(data = df , values = \"count\", index = \"year_range\", columns = \"Genre\",aggfunc = np.sum)\n",
    "\n",
    "# fillna --> 0\n",
    "df_pivot.fillna(0, inplace = True)"
   ]
  },
  {
   "cell_type": "code",
   "execution_count": 26,
   "metadata": {},
   "outputs": [
    {
     "output_type": "execute_result",
     "data": {
      "text/plain": [
       "Genre       R&B/Soul  국내영화/국내드라마     그외     댄스   랩/힙합   록/메탈    발라드   성인가요  \\\n",
       "year_range                                                                   \n",
       "1980-1983      0.000       0.000  0.000  0.022  0.000  0.141  0.178  0.504   \n",
       "1984-1987      0.000       0.005  0.000  0.058  0.000  0.129  0.353  0.313   \n",
       "1988-1991      0.000       0.010  0.000  0.063  0.000  0.106  0.570  0.116   \n",
       "1992-1995      0.005       0.046  0.000  0.213  0.013  0.117  0.510  0.033   \n",
       "1996-1999      0.008       0.008  0.003  0.301  0.058  0.137  0.435  0.020   \n",
       "2000-2003      0.095       0.015  0.000  0.265  0.072  0.132  0.388  0.000   \n",
       "2004-2007      0.171       0.035  0.003  0.134  0.093  0.101  0.461  0.000   \n",
       "2008-2011      0.030       0.018  0.000  0.418  0.138  0.042  0.345  0.002   \n",
       "2012-2015      0.068       0.075  0.008  0.308  0.200  0.060  0.255  0.000   \n",
       "2016-2019      0.118       0.098  0.000  0.232  0.152  0.020  0.272  0.002   \n",
       "\n",
       "Genre        인디음악     재즈  포크/블루스  \n",
       "year_range                        \n",
       "1980-1983   0.000  0.000   0.156  \n",
       "1984-1987   0.000  0.000   0.142  \n",
       "1988-1991   0.000  0.000   0.136  \n",
       "1992-1995   0.008  0.005   0.051  \n",
       "1996-1999   0.008  0.000   0.023  \n",
       "2000-2003   0.018  0.000   0.015  \n",
       "2004-2007   0.003  0.000   0.000  \n",
       "2008-2011   0.008  0.000   0.000  \n",
       "2012-2015   0.008  0.000   0.020  \n",
       "2016-2019   0.098  0.000   0.008  "
      ],
      "text/html": "<div>\n<style scoped>\n    .dataframe tbody tr th:only-of-type {\n        vertical-align: middle;\n    }\n\n    .dataframe tbody tr th {\n        vertical-align: top;\n    }\n\n    .dataframe thead th {\n        text-align: right;\n    }\n</style>\n<table border=\"1\" class=\"dataframe\">\n  <thead>\n    <tr style=\"text-align: right;\">\n      <th>Genre</th>\n      <th>R&amp;B/Soul</th>\n      <th>국내영화/국내드라마</th>\n      <th>그외</th>\n      <th>댄스</th>\n      <th>랩/힙합</th>\n      <th>록/메탈</th>\n      <th>발라드</th>\n      <th>성인가요</th>\n      <th>인디음악</th>\n      <th>재즈</th>\n      <th>포크/블루스</th>\n    </tr>\n    <tr>\n      <th>year_range</th>\n      <th></th>\n      <th></th>\n      <th></th>\n      <th></th>\n      <th></th>\n      <th></th>\n      <th></th>\n      <th></th>\n      <th></th>\n      <th></th>\n      <th></th>\n    </tr>\n  </thead>\n  <tbody>\n    <tr>\n      <th>1980-1983</th>\n      <td>0.000</td>\n      <td>0.000</td>\n      <td>0.000</td>\n      <td>0.022</td>\n      <td>0.000</td>\n      <td>0.141</td>\n      <td>0.178</td>\n      <td>0.504</td>\n      <td>0.000</td>\n      <td>0.000</td>\n      <td>0.156</td>\n    </tr>\n    <tr>\n      <th>1984-1987</th>\n      <td>0.000</td>\n      <td>0.005</td>\n      <td>0.000</td>\n      <td>0.058</td>\n      <td>0.000</td>\n      <td>0.129</td>\n      <td>0.353</td>\n      <td>0.313</td>\n      <td>0.000</td>\n      <td>0.000</td>\n      <td>0.142</td>\n    </tr>\n    <tr>\n      <th>1988-1991</th>\n      <td>0.000</td>\n      <td>0.010</td>\n      <td>0.000</td>\n      <td>0.063</td>\n      <td>0.000</td>\n      <td>0.106</td>\n      <td>0.570</td>\n      <td>0.116</td>\n      <td>0.000</td>\n      <td>0.000</td>\n      <td>0.136</td>\n    </tr>\n    <tr>\n      <th>1992-1995</th>\n      <td>0.005</td>\n      <td>0.046</td>\n      <td>0.000</td>\n      <td>0.213</td>\n      <td>0.013</td>\n      <td>0.117</td>\n      <td>0.510</td>\n      <td>0.033</td>\n      <td>0.008</td>\n      <td>0.005</td>\n      <td>0.051</td>\n    </tr>\n    <tr>\n      <th>1996-1999</th>\n      <td>0.008</td>\n      <td>0.008</td>\n      <td>0.003</td>\n      <td>0.301</td>\n      <td>0.058</td>\n      <td>0.137</td>\n      <td>0.435</td>\n      <td>0.020</td>\n      <td>0.008</td>\n      <td>0.000</td>\n      <td>0.023</td>\n    </tr>\n    <tr>\n      <th>2000-2003</th>\n      <td>0.095</td>\n      <td>0.015</td>\n      <td>0.000</td>\n      <td>0.265</td>\n      <td>0.072</td>\n      <td>0.132</td>\n      <td>0.388</td>\n      <td>0.000</td>\n      <td>0.018</td>\n      <td>0.000</td>\n      <td>0.015</td>\n    </tr>\n    <tr>\n      <th>2004-2007</th>\n      <td>0.171</td>\n      <td>0.035</td>\n      <td>0.003</td>\n      <td>0.134</td>\n      <td>0.093</td>\n      <td>0.101</td>\n      <td>0.461</td>\n      <td>0.000</td>\n      <td>0.003</td>\n      <td>0.000</td>\n      <td>0.000</td>\n    </tr>\n    <tr>\n      <th>2008-2011</th>\n      <td>0.030</td>\n      <td>0.018</td>\n      <td>0.000</td>\n      <td>0.418</td>\n      <td>0.138</td>\n      <td>0.042</td>\n      <td>0.345</td>\n      <td>0.002</td>\n      <td>0.008</td>\n      <td>0.000</td>\n      <td>0.000</td>\n    </tr>\n    <tr>\n      <th>2012-2015</th>\n      <td>0.068</td>\n      <td>0.075</td>\n      <td>0.008</td>\n      <td>0.308</td>\n      <td>0.200</td>\n      <td>0.060</td>\n      <td>0.255</td>\n      <td>0.000</td>\n      <td>0.008</td>\n      <td>0.000</td>\n      <td>0.020</td>\n    </tr>\n    <tr>\n      <th>2016-2019</th>\n      <td>0.118</td>\n      <td>0.098</td>\n      <td>0.000</td>\n      <td>0.232</td>\n      <td>0.152</td>\n      <td>0.020</td>\n      <td>0.272</td>\n      <td>0.002</td>\n      <td>0.098</td>\n      <td>0.000</td>\n      <td>0.008</td>\n    </tr>\n  </tbody>\n</table>\n</div>"
     },
     "metadata": {},
     "execution_count": 26
    }
   ],
   "source": [
    "# normalize\n",
    "\n",
    "df_normal = round(df_pivot.div(df_pivot.sum(axis = 1), axis=0),3)\n",
    "df_normal"
   ]
  },
  {
   "cell_type": "code",
   "execution_count": null,
   "metadata": {},
   "outputs": [],
   "source": []
  }
 ]
}