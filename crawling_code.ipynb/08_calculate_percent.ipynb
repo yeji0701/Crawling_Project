{
 "metadata": {
  "language_info": {
   "codemirror_mode": {
    "name": "ipython",
    "version": 3
   },
   "file_extension": ".py",
   "mimetype": "text/x-python",
   "name": "python",
   "nbconvert_exporter": "python",
   "pygments_lexer": "ipython3",
   "version": "3.8.3-final"
  },
  "orig_nbformat": 2,
  "kernelspec": {
   "name": "python3",
   "display_name": "Python 3"
  }
 },
 "nbformat": 4,
 "nbformat_minor": 2,
 "cells": [
  {
   "cell_type": "code",
   "execution_count": 1,
   "metadata": {},
   "outputs": [],
   "source": [
    "import pandas as pd"
   ]
  },
  {
   "cell_type": "code",
   "execution_count": 9,
   "metadata": {},
   "outputs": [
    {
     "output_type": "execute_result",
     "data": {
      "text/plain": [
       "         Artist Genre                                             Lyrics  \\\n",
       "0           금호동  성인가요  하루의 일을 끝내고 돌아가는거리엔 사람의 물결하늘엔 별이 하나 둘 반짝이면가로등 하...   \n",
       "1           최숙자  성인가요  조기를 담뿍잡아기폭을 올리고온다던 그배는어이하여 아니오나수평선 바라보며그이름 부르면...   \n",
       "2           이미자  성인가요  <1절 임이라 부르리까 당신이라고 부르리까 사랑을 하면서도 사랑을 참고사는 마음으로...   \n",
       "3           이미자  성인가요  헤일 수 없이 수많은 밤을내 가슴 도려내는 아픔에 겨워얼마나 울었던가 동백아가씨그리...   \n",
       "4            현미  성인가요  그 날 밤 그 자리에둘이서 만났을 때똑같은 그 순간에똑같은 마음이달빛에 젖은 채밤새...   \n",
       "...         ...   ...                                                ...   \n",
       "4253        아이유  록/메탈  ‘뭐해?‘라는 두 글자에‘네가 보고 싶어’ 나의 속마음을 담아 우이모티콘 하나하나 ...   \n",
       "4254        MC몽  랩/힙합  우선 캐릭터는 분명해야 해요 X 같은 XX철부지같이 굴면Fail 해요 Next 바로...   \n",
       "4255  ITZY (있지)    댄스  Hey hey hey yass whoo Beep beep Hey hey hey he...   \n",
       "4256  Lil tachi  랩/힙합  멋이 다 흘러흘러서 넘쳐멀어 버렸어배로 막 벌어멋이 다 흘러멋이 다 흘러배로 막 벌...   \n",
       "4257        홍진영  성인가요  오늘 밤에 아무도 모르게너랑 둘이서 둘이서 사랑을 할거야오늘 밤에 아무도 모르게뚜뚜...   \n",
       "\n",
       "                    Title  Year  \n",
       "0                내일또 만납시다  1964  \n",
       "1                 눈물의 연평도  1964  \n",
       "2                님이라 부르리까  1964  \n",
       "3                   동백아가씨  1964  \n",
       "4                떠날때는 말없이  1964  \n",
       "...                   ...   ...  \n",
       "4253             Blueming  2019  \n",
       "4254  인기 (Feat. 송가인, 챈슬러)  2019  \n",
       "4255                  ICY  2019  \n",
       "4256       눈 (Prod. 기리보이)  2019  \n",
       "4257                오늘 밤에  2019  \n",
       "\n",
       "[4258 rows x 5 columns]"
      ],
      "text/html": "<div>\n<style scoped>\n    .dataframe tbody tr th:only-of-type {\n        vertical-align: middle;\n    }\n\n    .dataframe tbody tr th {\n        vertical-align: top;\n    }\n\n    .dataframe thead th {\n        text-align: right;\n    }\n</style>\n<table border=\"1\" class=\"dataframe\">\n  <thead>\n    <tr style=\"text-align: right;\">\n      <th></th>\n      <th>Artist</th>\n      <th>Genre</th>\n      <th>Lyrics</th>\n      <th>Title</th>\n      <th>Year</th>\n    </tr>\n  </thead>\n  <tbody>\n    <tr>\n      <th>0</th>\n      <td>금호동</td>\n      <td>성인가요</td>\n      <td>하루의 일을 끝내고 돌아가는거리엔 사람의 물결하늘엔 별이 하나 둘 반짝이면가로등 하...</td>\n      <td>내일또 만납시다</td>\n      <td>1964</td>\n    </tr>\n    <tr>\n      <th>1</th>\n      <td>최숙자</td>\n      <td>성인가요</td>\n      <td>조기를 담뿍잡아기폭을 올리고온다던 그배는어이하여 아니오나수평선 바라보며그이름 부르면...</td>\n      <td>눈물의 연평도</td>\n      <td>1964</td>\n    </tr>\n    <tr>\n      <th>2</th>\n      <td>이미자</td>\n      <td>성인가요</td>\n      <td>&lt;1절 임이라 부르리까 당신이라고 부르리까 사랑을 하면서도 사랑을 참고사는 마음으로...</td>\n      <td>님이라 부르리까</td>\n      <td>1964</td>\n    </tr>\n    <tr>\n      <th>3</th>\n      <td>이미자</td>\n      <td>성인가요</td>\n      <td>헤일 수 없이 수많은 밤을내 가슴 도려내는 아픔에 겨워얼마나 울었던가 동백아가씨그리...</td>\n      <td>동백아가씨</td>\n      <td>1964</td>\n    </tr>\n    <tr>\n      <th>4</th>\n      <td>현미</td>\n      <td>성인가요</td>\n      <td>그 날 밤 그 자리에둘이서 만났을 때똑같은 그 순간에똑같은 마음이달빛에 젖은 채밤새...</td>\n      <td>떠날때는 말없이</td>\n      <td>1964</td>\n    </tr>\n    <tr>\n      <th>...</th>\n      <td>...</td>\n      <td>...</td>\n      <td>...</td>\n      <td>...</td>\n      <td>...</td>\n    </tr>\n    <tr>\n      <th>4253</th>\n      <td>아이유</td>\n      <td>록/메탈</td>\n      <td>‘뭐해?‘라는 두 글자에‘네가 보고 싶어’ 나의 속마음을 담아 우이모티콘 하나하나 ...</td>\n      <td>Blueming</td>\n      <td>2019</td>\n    </tr>\n    <tr>\n      <th>4254</th>\n      <td>MC몽</td>\n      <td>랩/힙합</td>\n      <td>우선 캐릭터는 분명해야 해요 X 같은 XX철부지같이 굴면Fail 해요 Next 바로...</td>\n      <td>인기 (Feat. 송가인, 챈슬러)</td>\n      <td>2019</td>\n    </tr>\n    <tr>\n      <th>4255</th>\n      <td>ITZY (있지)</td>\n      <td>댄스</td>\n      <td>Hey hey hey yass whoo Beep beep Hey hey hey he...</td>\n      <td>ICY</td>\n      <td>2019</td>\n    </tr>\n    <tr>\n      <th>4256</th>\n      <td>Lil tachi</td>\n      <td>랩/힙합</td>\n      <td>멋이 다 흘러흘러서 넘쳐멀어 버렸어배로 막 벌어멋이 다 흘러멋이 다 흘러배로 막 벌...</td>\n      <td>눈 (Prod. 기리보이)</td>\n      <td>2019</td>\n    </tr>\n    <tr>\n      <th>4257</th>\n      <td>홍진영</td>\n      <td>성인가요</td>\n      <td>오늘 밤에 아무도 모르게너랑 둘이서 둘이서 사랑을 할거야오늘 밤에 아무도 모르게뚜뚜...</td>\n      <td>오늘 밤에</td>\n      <td>2019</td>\n    </tr>\n  </tbody>\n</table>\n<p>4258 rows × 5 columns</p>\n</div>"
     },
     "metadata": {},
     "execution_count": 9
    }
   ],
   "source": [
    "df = pd.read_csv(\"C:/Users/luvu1/Documents/dss15/crawling_project/datas/final2019(rev4).csv\", encoding='utf-8', index_col=[0])\n",
    "df"
   ]
  },
  {
   "cell_type": "code",
   "execution_count": 10,
   "metadata": {},
   "outputs": [],
   "source": [
    "df = df[df.Year != 1964]\n",
    "df = df[df.Year != 1965]\n",
    "df = df[df.Year != 1966]\n",
    "df = df[df.Year != 1967]\n",
    "df = df[df.Year != 1968]\n",
    "df = df[df.Year != 1969]\n",
    "df = df[df.Year != 1970]"
   ]
  },
  {
   "cell_type": "code",
   "execution_count": 11,
   "metadata": {},
   "outputs": [],
   "source": [
    "df = df[df.Year != 1971]\n",
    "df = df[df.Year != 1972]\n",
    "df = df[df.Year != 1973]\n",
    "df = df[df.Year != 1974]\n",
    "df = df[df.Year != 1975]\n",
    "df = df[df.Year != 1976]\n",
    "df = df[df.Year != 1977]\n",
    "df = df[df.Year != 1978]\n",
    "df = df[df.Year != 1979]"
   ]
  },
  {
   "cell_type": "code",
   "execution_count": 12,
   "metadata": {},
   "outputs": [
    {
     "output_type": "execute_result",
     "data": {
      "text/plain": [
       "         Artist Genre                                             Lyrics  \\\n",
       "0           윤시내   발라드  갈길 멀다 쉬어가는 곳구름처럼 머물다가는 곳산굽이 돌아 밤이오면하늘가에 그리움 일던...   \n",
       "1           희자매  성인가요  속으론 나를 좋아하면서 겉으론 새침한 그 사람 안보는 척 나를 지나치면서 어쩌다 마...   \n",
       "2           계은숙  성인가요  내 마음 외로울땐 눈을 감아요자꾸만 떠오르는 그대 생각에가슴에 느껴지는 사랑에 숨결...   \n",
       "3           윤항기  성인가요  나는 행복합니다나는 행복합니다나는 행복합니다정말 정말 행복합니다기다리던 오늘 그날이...   \n",
       "4           김학래   발라드  이 세상에 기쁜 꿈 있으니 가득한 사랑의 눈을 내리고 우리 사랑에 노래 있다면 아름...   \n",
       "...         ...   ...                                                ...   \n",
       "3694        아이유  록/메탈  ‘뭐해?‘라는 두 글자에‘네가 보고 싶어’ 나의 속마음을 담아 우이모티콘 하나하나 ...   \n",
       "3695        MC몽  랩/힙합  우선 캐릭터는 분명해야 해요 X 같은 XX철부지같이 굴면Fail 해요 Next 바로...   \n",
       "3696  ITZY (있지)    댄스  Hey hey hey yass whoo Beep beep Hey hey hey he...   \n",
       "3697  Lil tachi  랩/힙합  멋이 다 흘러흘러서 넘쳐멀어 버렸어배로 막 벌어멋이 다 흘러멋이 다 흘러배로 막 벌...   \n",
       "3698        홍진영  성인가요  오늘 밤에 아무도 모르게너랑 둘이서 둘이서 사랑을 할거야오늘 밤에 아무도 모르게뚜뚜...   \n",
       "\n",
       "                    Title  Year  \n",
       "0                      고목  1980  \n",
       "1                 그 사람 바보  1980  \n",
       "2                 기다리는 여심  1980  \n",
       "3                나는 행복합니다  1980  \n",
       "4                   내가 (대  1980  \n",
       "...                   ...   ...  \n",
       "3694             Blueming  2019  \n",
       "3695  인기 (Feat. 송가인, 챈슬러)  2019  \n",
       "3696                  ICY  2019  \n",
       "3697       눈 (Prod. 기리보이)  2019  \n",
       "3698                오늘 밤에  2019  \n",
       "\n",
       "[3699 rows x 5 columns]"
      ],
      "text/html": "<div>\n<style scoped>\n    .dataframe tbody tr th:only-of-type {\n        vertical-align: middle;\n    }\n\n    .dataframe tbody tr th {\n        vertical-align: top;\n    }\n\n    .dataframe thead th {\n        text-align: right;\n    }\n</style>\n<table border=\"1\" class=\"dataframe\">\n  <thead>\n    <tr style=\"text-align: right;\">\n      <th></th>\n      <th>Artist</th>\n      <th>Genre</th>\n      <th>Lyrics</th>\n      <th>Title</th>\n      <th>Year</th>\n    </tr>\n  </thead>\n  <tbody>\n    <tr>\n      <th>0</th>\n      <td>윤시내</td>\n      <td>발라드</td>\n      <td>갈길 멀다 쉬어가는 곳구름처럼 머물다가는 곳산굽이 돌아 밤이오면하늘가에 그리움 일던...</td>\n      <td>고목</td>\n      <td>1980</td>\n    </tr>\n    <tr>\n      <th>1</th>\n      <td>희자매</td>\n      <td>성인가요</td>\n      <td>속으론 나를 좋아하면서 겉으론 새침한 그 사람 안보는 척 나를 지나치면서 어쩌다 마...</td>\n      <td>그 사람 바보</td>\n      <td>1980</td>\n    </tr>\n    <tr>\n      <th>2</th>\n      <td>계은숙</td>\n      <td>성인가요</td>\n      <td>내 마음 외로울땐 눈을 감아요자꾸만 떠오르는 그대 생각에가슴에 느껴지는 사랑에 숨결...</td>\n      <td>기다리는 여심</td>\n      <td>1980</td>\n    </tr>\n    <tr>\n      <th>3</th>\n      <td>윤항기</td>\n      <td>성인가요</td>\n      <td>나는 행복합니다나는 행복합니다나는 행복합니다정말 정말 행복합니다기다리던 오늘 그날이...</td>\n      <td>나는 행복합니다</td>\n      <td>1980</td>\n    </tr>\n    <tr>\n      <th>4</th>\n      <td>김학래</td>\n      <td>발라드</td>\n      <td>이 세상에 기쁜 꿈 있으니 가득한 사랑의 눈을 내리고 우리 사랑에 노래 있다면 아름...</td>\n      <td>내가 (대</td>\n      <td>1980</td>\n    </tr>\n    <tr>\n      <th>...</th>\n      <td>...</td>\n      <td>...</td>\n      <td>...</td>\n      <td>...</td>\n      <td>...</td>\n    </tr>\n    <tr>\n      <th>3694</th>\n      <td>아이유</td>\n      <td>록/메탈</td>\n      <td>‘뭐해?‘라는 두 글자에‘네가 보고 싶어’ 나의 속마음을 담아 우이모티콘 하나하나 ...</td>\n      <td>Blueming</td>\n      <td>2019</td>\n    </tr>\n    <tr>\n      <th>3695</th>\n      <td>MC몽</td>\n      <td>랩/힙합</td>\n      <td>우선 캐릭터는 분명해야 해요 X 같은 XX철부지같이 굴면Fail 해요 Next 바로...</td>\n      <td>인기 (Feat. 송가인, 챈슬러)</td>\n      <td>2019</td>\n    </tr>\n    <tr>\n      <th>3696</th>\n      <td>ITZY (있지)</td>\n      <td>댄스</td>\n      <td>Hey hey hey yass whoo Beep beep Hey hey hey he...</td>\n      <td>ICY</td>\n      <td>2019</td>\n    </tr>\n    <tr>\n      <th>3697</th>\n      <td>Lil tachi</td>\n      <td>랩/힙합</td>\n      <td>멋이 다 흘러흘러서 넘쳐멀어 버렸어배로 막 벌어멋이 다 흘러멋이 다 흘러배로 막 벌...</td>\n      <td>눈 (Prod. 기리보이)</td>\n      <td>2019</td>\n    </tr>\n    <tr>\n      <th>3698</th>\n      <td>홍진영</td>\n      <td>성인가요</td>\n      <td>오늘 밤에 아무도 모르게너랑 둘이서 둘이서 사랑을 할거야오늘 밤에 아무도 모르게뚜뚜...</td>\n      <td>오늘 밤에</td>\n      <td>2019</td>\n    </tr>\n  </tbody>\n</table>\n<p>3699 rows × 5 columns</p>\n</div>"
     },
     "metadata": {},
     "execution_count": 12
    }
   ],
   "source": [
    "df.reset_index(drop=True, inplace=True)\n",
    "df"
   ]
  },
  {
   "cell_type": "code",
   "execution_count": 13,
   "metadata": {},
   "outputs": [
    {
     "output_type": "execute_result",
     "data": {
      "text/plain": [
       "         Artist Genre                                             Lyrics  \\\n",
       "3694        아이유  록/메탈  ‘뭐해?‘라는 두 글자에‘네가 보고 싶어’ 나의 속마음을 담아 우이모티콘 하나하나 ...   \n",
       "3695        MC몽  랩/힙합  우선 캐릭터는 분명해야 해요 X 같은 XX철부지같이 굴면Fail 해요 Next 바로...   \n",
       "3696  ITZY (있지)    댄스  Hey hey hey yass whoo Beep beep Hey hey hey he...   \n",
       "3697  Lil tachi  랩/힙합  멋이 다 흘러흘러서 넘쳐멀어 버렸어배로 막 벌어멋이 다 흘러멋이 다 흘러배로 막 벌...   \n",
       "3698        홍진영  성인가요  오늘 밤에 아무도 모르게너랑 둘이서 둘이서 사랑을 할거야오늘 밤에 아무도 모르게뚜뚜...   \n",
       "\n",
       "                    Title  Year year_range  \n",
       "3694             Blueming  2019  2016-2019  \n",
       "3695  인기 (Feat. 송가인, 챈슬러)  2019  2016-2019  \n",
       "3696                  ICY  2019  2016-2019  \n",
       "3697       눈 (Prod. 기리보이)  2019  2016-2019  \n",
       "3698                오늘 밤에  2019  2016-2019  "
      ],
      "text/html": "<div>\n<style scoped>\n    .dataframe tbody tr th:only-of-type {\n        vertical-align: middle;\n    }\n\n    .dataframe tbody tr th {\n        vertical-align: top;\n    }\n\n    .dataframe thead th {\n        text-align: right;\n    }\n</style>\n<table border=\"1\" class=\"dataframe\">\n  <thead>\n    <tr style=\"text-align: right;\">\n      <th></th>\n      <th>Artist</th>\n      <th>Genre</th>\n      <th>Lyrics</th>\n      <th>Title</th>\n      <th>Year</th>\n      <th>year_range</th>\n    </tr>\n  </thead>\n  <tbody>\n    <tr>\n      <th>3694</th>\n      <td>아이유</td>\n      <td>록/메탈</td>\n      <td>‘뭐해?‘라는 두 글자에‘네가 보고 싶어’ 나의 속마음을 담아 우이모티콘 하나하나 ...</td>\n      <td>Blueming</td>\n      <td>2019</td>\n      <td>2016-2019</td>\n    </tr>\n    <tr>\n      <th>3695</th>\n      <td>MC몽</td>\n      <td>랩/힙합</td>\n      <td>우선 캐릭터는 분명해야 해요 X 같은 XX철부지같이 굴면Fail 해요 Next 바로...</td>\n      <td>인기 (Feat. 송가인, 챈슬러)</td>\n      <td>2019</td>\n      <td>2016-2019</td>\n    </tr>\n    <tr>\n      <th>3696</th>\n      <td>ITZY (있지)</td>\n      <td>댄스</td>\n      <td>Hey hey hey yass whoo Beep beep Hey hey hey he...</td>\n      <td>ICY</td>\n      <td>2019</td>\n      <td>2016-2019</td>\n    </tr>\n    <tr>\n      <th>3697</th>\n      <td>Lil tachi</td>\n      <td>랩/힙합</td>\n      <td>멋이 다 흘러흘러서 넘쳐멀어 버렸어배로 막 벌어멋이 다 흘러멋이 다 흘러배로 막 벌...</td>\n      <td>눈 (Prod. 기리보이)</td>\n      <td>2019</td>\n      <td>2016-2019</td>\n    </tr>\n    <tr>\n      <th>3698</th>\n      <td>홍진영</td>\n      <td>성인가요</td>\n      <td>오늘 밤에 아무도 모르게너랑 둘이서 둘이서 사랑을 할거야오늘 밤에 아무도 모르게뚜뚜...</td>\n      <td>오늘 밤에</td>\n      <td>2019</td>\n      <td>2016-2019</td>\n    </tr>\n  </tbody>\n</table>\n</div>"
     },
     "metadata": {},
     "execution_count": 13
    }
   ],
   "source": [
    "df['year_range'] = pd.cut(x=df['Year'], bins=[1979, 1983, 1987, 1991, 1995, 1999, 2003, 2007, 2011, 2015, 2019], labels=['1980-1983', '1984-1987', '1988-1991', '1992-1995', '1996-1999', '2000-2003', '2004-2007', '2008-2011', '2012-2015', '2016-2019'])\n",
    "df.tail()"
   ]
  },
  {
   "cell_type": "code",
   "execution_count": 14,
   "metadata": {},
   "outputs": [],
   "source": [
    "import numpy as np\n",
    "df[\"count\"] = 1\n",
    "df_pivot = pd.pivot_table(data = df, values = \"count\", index = \"year_range\", columns = \"Genre\", aggfunc = np.sum)"
   ]
  },
  {
   "cell_type": "code",
   "execution_count": 15,
   "metadata": {},
   "outputs": [
    {
     "output_type": "execute_result",
     "data": {
      "text/plain": [
       "Genre       R&B/Soul  국내영화/국내드라마   그외     댄스  랩/힙합  록/메탈    발라드   성인가요  인디음악  \\\n",
       "year_range                                                                     \n",
       "1980-1983        0.0         0.0  0.0    3.0   0.0  19.0   24.0   68.0   0.0   \n",
       "1984-1987        0.0         2.0  0.0   22.0   0.0  49.0  134.0  119.0   0.0   \n",
       "1988-1991        0.0         4.0  0.0   25.0   0.0  42.0  227.0   46.0   0.0   \n",
       "1992-1995        2.0        18.0  0.0   84.0   5.0  46.0  201.0   13.0   3.0   \n",
       "1996-1999        3.0         3.0  1.0  119.0  23.0  54.0  172.0    8.0   3.0   \n",
       "2000-2003       38.0         6.0  0.0  106.0  29.0  53.0  155.0    0.0   7.0   \n",
       "2004-2007       68.0        14.0  1.0   53.0  37.0  40.0  183.0    0.0   1.0   \n",
       "2008-2011       12.0         7.0  0.0  167.0  55.0  17.0  138.0    1.0   3.0   \n",
       "2012-2015       27.0        30.0  3.0  123.0  80.0  24.0  102.0    0.0   3.0   \n",
       "2016-2019       47.0        39.0  0.0   93.0  61.0   8.0  109.0    1.0  39.0   \n",
       "\n",
       "Genre        재즈  포크/블루스  \n",
       "year_range               \n",
       "1980-1983   0.0    21.0  \n",
       "1984-1987   0.0    54.0  \n",
       "1988-1991   0.0    54.0  \n",
       "1992-1995   2.0    20.0  \n",
       "1996-1999   0.0     9.0  \n",
       "2000-2003   0.0     6.0  \n",
       "2004-2007   0.0     0.0  \n",
       "2008-2011   0.0     0.0  \n",
       "2012-2015   0.0     8.0  \n",
       "2016-2019   0.0     3.0  "
      ],
      "text/html": "<div>\n<style scoped>\n    .dataframe tbody tr th:only-of-type {\n        vertical-align: middle;\n    }\n\n    .dataframe tbody tr th {\n        vertical-align: top;\n    }\n\n    .dataframe thead th {\n        text-align: right;\n    }\n</style>\n<table border=\"1\" class=\"dataframe\">\n  <thead>\n    <tr style=\"text-align: right;\">\n      <th>Genre</th>\n      <th>R&amp;B/Soul</th>\n      <th>국내영화/국내드라마</th>\n      <th>그외</th>\n      <th>댄스</th>\n      <th>랩/힙합</th>\n      <th>록/메탈</th>\n      <th>발라드</th>\n      <th>성인가요</th>\n      <th>인디음악</th>\n      <th>재즈</th>\n      <th>포크/블루스</th>\n    </tr>\n    <tr>\n      <th>year_range</th>\n      <th></th>\n      <th></th>\n      <th></th>\n      <th></th>\n      <th></th>\n      <th></th>\n      <th></th>\n      <th></th>\n      <th></th>\n      <th></th>\n      <th></th>\n    </tr>\n  </thead>\n  <tbody>\n    <tr>\n      <th>1980-1983</th>\n      <td>0.0</td>\n      <td>0.0</td>\n      <td>0.0</td>\n      <td>3.0</td>\n      <td>0.0</td>\n      <td>19.0</td>\n      <td>24.0</td>\n      <td>68.0</td>\n      <td>0.0</td>\n      <td>0.0</td>\n      <td>21.0</td>\n    </tr>\n    <tr>\n      <th>1984-1987</th>\n      <td>0.0</td>\n      <td>2.0</td>\n      <td>0.0</td>\n      <td>22.0</td>\n      <td>0.0</td>\n      <td>49.0</td>\n      <td>134.0</td>\n      <td>119.0</td>\n      <td>0.0</td>\n      <td>0.0</td>\n      <td>54.0</td>\n    </tr>\n    <tr>\n      <th>1988-1991</th>\n      <td>0.0</td>\n      <td>4.0</td>\n      <td>0.0</td>\n      <td>25.0</td>\n      <td>0.0</td>\n      <td>42.0</td>\n      <td>227.0</td>\n      <td>46.0</td>\n      <td>0.0</td>\n      <td>0.0</td>\n      <td>54.0</td>\n    </tr>\n    <tr>\n      <th>1992-1995</th>\n      <td>2.0</td>\n      <td>18.0</td>\n      <td>0.0</td>\n      <td>84.0</td>\n      <td>5.0</td>\n      <td>46.0</td>\n      <td>201.0</td>\n      <td>13.0</td>\n      <td>3.0</td>\n      <td>2.0</td>\n      <td>20.0</td>\n    </tr>\n    <tr>\n      <th>1996-1999</th>\n      <td>3.0</td>\n      <td>3.0</td>\n      <td>1.0</td>\n      <td>119.0</td>\n      <td>23.0</td>\n      <td>54.0</td>\n      <td>172.0</td>\n      <td>8.0</td>\n      <td>3.0</td>\n      <td>0.0</td>\n      <td>9.0</td>\n    </tr>\n    <tr>\n      <th>2000-2003</th>\n      <td>38.0</td>\n      <td>6.0</td>\n      <td>0.0</td>\n      <td>106.0</td>\n      <td>29.0</td>\n      <td>53.0</td>\n      <td>155.0</td>\n      <td>0.0</td>\n      <td>7.0</td>\n      <td>0.0</td>\n      <td>6.0</td>\n    </tr>\n    <tr>\n      <th>2004-2007</th>\n      <td>68.0</td>\n      <td>14.0</td>\n      <td>1.0</td>\n      <td>53.0</td>\n      <td>37.0</td>\n      <td>40.0</td>\n      <td>183.0</td>\n      <td>0.0</td>\n      <td>1.0</td>\n      <td>0.0</td>\n      <td>0.0</td>\n    </tr>\n    <tr>\n      <th>2008-2011</th>\n      <td>12.0</td>\n      <td>7.0</td>\n      <td>0.0</td>\n      <td>167.0</td>\n      <td>55.0</td>\n      <td>17.0</td>\n      <td>138.0</td>\n      <td>1.0</td>\n      <td>3.0</td>\n      <td>0.0</td>\n      <td>0.0</td>\n    </tr>\n    <tr>\n      <th>2012-2015</th>\n      <td>27.0</td>\n      <td>30.0</td>\n      <td>3.0</td>\n      <td>123.0</td>\n      <td>80.0</td>\n      <td>24.0</td>\n      <td>102.0</td>\n      <td>0.0</td>\n      <td>3.0</td>\n      <td>0.0</td>\n      <td>8.0</td>\n    </tr>\n    <tr>\n      <th>2016-2019</th>\n      <td>47.0</td>\n      <td>39.0</td>\n      <td>0.0</td>\n      <td>93.0</td>\n      <td>61.0</td>\n      <td>8.0</td>\n      <td>109.0</td>\n      <td>1.0</td>\n      <td>39.0</td>\n      <td>0.0</td>\n      <td>3.0</td>\n    </tr>\n  </tbody>\n</table>\n</div>"
     },
     "metadata": {},
     "execution_count": 15
    }
   ],
   "source": [
    "df_pivot = df_pivot.fillna(0)\n",
    "df_pivot"
   ]
  },
  {
   "cell_type": "code",
   "execution_count": 16,
   "metadata": {},
   "outputs": [],
   "source": [
    "df_pivot['total'] = df_pivot.sum(axis=1)"
   ]
  },
  {
   "cell_type": "code",
   "execution_count": 17,
   "metadata": {},
   "outputs": [
    {
     "output_type": "execute_result",
     "data": {
      "text/plain": [
       "Genre       R&B/Soul  국내영화/국내드라마   그외     댄스  랩/힙합  록/메탈    발라드   성인가요  인디음악  \\\n",
       "year_range                                                                     \n",
       "1980-1983        0.0         0.0  0.0    3.0   0.0  19.0   24.0   68.0   0.0   \n",
       "1984-1987        0.0         2.0  0.0   22.0   0.0  49.0  134.0  119.0   0.0   \n",
       "1988-1991        0.0         4.0  0.0   25.0   0.0  42.0  227.0   46.0   0.0   \n",
       "1992-1995        2.0        18.0  0.0   84.0   5.0  46.0  201.0   13.0   3.0   \n",
       "1996-1999        3.0         3.0  1.0  119.0  23.0  54.0  172.0    8.0   3.0   \n",
       "2000-2003       38.0         6.0  0.0  106.0  29.0  53.0  155.0    0.0   7.0   \n",
       "2004-2007       68.0        14.0  1.0   53.0  37.0  40.0  183.0    0.0   1.0   \n",
       "2008-2011       12.0         7.0  0.0  167.0  55.0  17.0  138.0    1.0   3.0   \n",
       "2012-2015       27.0        30.0  3.0  123.0  80.0  24.0  102.0    0.0   3.0   \n",
       "2016-2019       47.0        39.0  0.0   93.0  61.0   8.0  109.0    1.0  39.0   \n",
       "\n",
       "Genre        재즈  ...  국내영화/국내드라마(%)     그외(%)      댄스(%)    랩/힙합(%)  \\\n",
       "year_range       ...                                                  \n",
       "1980-1983   0.0  ...       0.000000  0.000000   2.222222   0.000000   \n",
       "1984-1987   0.0  ...       0.526316  0.000000   5.789474   0.000000   \n",
       "1988-1991   0.0  ...       1.005025  0.000000   6.281407   0.000000   \n",
       "1992-1995   2.0  ...       4.568528  0.000000  21.319797   1.269036   \n",
       "1996-1999   0.0  ...       0.759494  0.253165  30.126582   5.822785   \n",
       "2000-2003   0.0  ...       1.500000  0.000000  26.500000   7.250000   \n",
       "2004-2007   0.0  ...       3.526448  0.251889  13.350126   9.319899   \n",
       "2008-2011   0.0  ...       1.750000  0.000000  41.750000  13.750000   \n",
       "2012-2015   0.0  ...       7.500000  0.750000  30.750000  20.000000   \n",
       "2016-2019   0.0  ...       9.750000  0.000000  23.250000  15.250000   \n",
       "\n",
       "Genre         록/메탈(%)     발라드(%)    성인가요(%)   인디음악(%)     재즈(%)  포크/블루스(%)  \n",
       "year_range                                                                  \n",
       "1980-1983   14.074074  17.777778  50.370370  0.000000  0.000000  15.555556  \n",
       "1984-1987   12.894737  35.263158  31.315789  0.000000  0.000000  14.210526  \n",
       "1988-1991   10.552764  57.035176  11.557789  0.000000  0.000000  13.567839  \n",
       "1992-1995   11.675127  51.015228   3.299492  0.761421  0.507614   5.076142  \n",
       "1996-1999   13.670886  43.544304   2.025316  0.759494  0.000000   2.278481  \n",
       "2000-2003   13.250000  38.750000   0.000000  1.750000  0.000000   1.500000  \n",
       "2004-2007   10.075567  46.095718   0.000000  0.251889  0.000000   0.000000  \n",
       "2008-2011    4.250000  34.500000   0.250000  0.750000  0.000000   0.000000  \n",
       "2012-2015    6.000000  25.500000   0.000000  0.750000  0.000000   2.000000  \n",
       "2016-2019    2.000000  27.250000   0.250000  9.750000  0.000000   0.750000  \n",
       "\n",
       "[10 rows x 23 columns]"
      ],
      "text/html": "<div>\n<style scoped>\n    .dataframe tbody tr th:only-of-type {\n        vertical-align: middle;\n    }\n\n    .dataframe tbody tr th {\n        vertical-align: top;\n    }\n\n    .dataframe thead th {\n        text-align: right;\n    }\n</style>\n<table border=\"1\" class=\"dataframe\">\n  <thead>\n    <tr style=\"text-align: right;\">\n      <th>Genre</th>\n      <th>R&amp;B/Soul</th>\n      <th>국내영화/국내드라마</th>\n      <th>그외</th>\n      <th>댄스</th>\n      <th>랩/힙합</th>\n      <th>록/메탈</th>\n      <th>발라드</th>\n      <th>성인가요</th>\n      <th>인디음악</th>\n      <th>재즈</th>\n      <th>...</th>\n      <th>국내영화/국내드라마(%)</th>\n      <th>그외(%)</th>\n      <th>댄스(%)</th>\n      <th>랩/힙합(%)</th>\n      <th>록/메탈(%)</th>\n      <th>발라드(%)</th>\n      <th>성인가요(%)</th>\n      <th>인디음악(%)</th>\n      <th>재즈(%)</th>\n      <th>포크/블루스(%)</th>\n    </tr>\n    <tr>\n      <th>year_range</th>\n      <th></th>\n      <th></th>\n      <th></th>\n      <th></th>\n      <th></th>\n      <th></th>\n      <th></th>\n      <th></th>\n      <th></th>\n      <th></th>\n      <th></th>\n      <th></th>\n      <th></th>\n      <th></th>\n      <th></th>\n      <th></th>\n      <th></th>\n      <th></th>\n      <th></th>\n      <th></th>\n      <th></th>\n    </tr>\n  </thead>\n  <tbody>\n    <tr>\n      <th>1980-1983</th>\n      <td>0.0</td>\n      <td>0.0</td>\n      <td>0.0</td>\n      <td>3.0</td>\n      <td>0.0</td>\n      <td>19.0</td>\n      <td>24.0</td>\n      <td>68.0</td>\n      <td>0.0</td>\n      <td>0.0</td>\n      <td>...</td>\n      <td>0.000000</td>\n      <td>0.000000</td>\n      <td>2.222222</td>\n      <td>0.000000</td>\n      <td>14.074074</td>\n      <td>17.777778</td>\n      <td>50.370370</td>\n      <td>0.000000</td>\n      <td>0.000000</td>\n      <td>15.555556</td>\n    </tr>\n    <tr>\n      <th>1984-1987</th>\n      <td>0.0</td>\n      <td>2.0</td>\n      <td>0.0</td>\n      <td>22.0</td>\n      <td>0.0</td>\n      <td>49.0</td>\n      <td>134.0</td>\n      <td>119.0</td>\n      <td>0.0</td>\n      <td>0.0</td>\n      <td>...</td>\n      <td>0.526316</td>\n      <td>0.000000</td>\n      <td>5.789474</td>\n      <td>0.000000</td>\n      <td>12.894737</td>\n      <td>35.263158</td>\n      <td>31.315789</td>\n      <td>0.000000</td>\n      <td>0.000000</td>\n      <td>14.210526</td>\n    </tr>\n    <tr>\n      <th>1988-1991</th>\n      <td>0.0</td>\n      <td>4.0</td>\n      <td>0.0</td>\n      <td>25.0</td>\n      <td>0.0</td>\n      <td>42.0</td>\n      <td>227.0</td>\n      <td>46.0</td>\n      <td>0.0</td>\n      <td>0.0</td>\n      <td>...</td>\n      <td>1.005025</td>\n      <td>0.000000</td>\n      <td>6.281407</td>\n      <td>0.000000</td>\n      <td>10.552764</td>\n      <td>57.035176</td>\n      <td>11.557789</td>\n      <td>0.000000</td>\n      <td>0.000000</td>\n      <td>13.567839</td>\n    </tr>\n    <tr>\n      <th>1992-1995</th>\n      <td>2.0</td>\n      <td>18.0</td>\n      <td>0.0</td>\n      <td>84.0</td>\n      <td>5.0</td>\n      <td>46.0</td>\n      <td>201.0</td>\n      <td>13.0</td>\n      <td>3.0</td>\n      <td>2.0</td>\n      <td>...</td>\n      <td>4.568528</td>\n      <td>0.000000</td>\n      <td>21.319797</td>\n      <td>1.269036</td>\n      <td>11.675127</td>\n      <td>51.015228</td>\n      <td>3.299492</td>\n      <td>0.761421</td>\n      <td>0.507614</td>\n      <td>5.076142</td>\n    </tr>\n    <tr>\n      <th>1996-1999</th>\n      <td>3.0</td>\n      <td>3.0</td>\n      <td>1.0</td>\n      <td>119.0</td>\n      <td>23.0</td>\n      <td>54.0</td>\n      <td>172.0</td>\n      <td>8.0</td>\n      <td>3.0</td>\n      <td>0.0</td>\n      <td>...</td>\n      <td>0.759494</td>\n      <td>0.253165</td>\n      <td>30.126582</td>\n      <td>5.822785</td>\n      <td>13.670886</td>\n      <td>43.544304</td>\n      <td>2.025316</td>\n      <td>0.759494</td>\n      <td>0.000000</td>\n      <td>2.278481</td>\n    </tr>\n    <tr>\n      <th>2000-2003</th>\n      <td>38.0</td>\n      <td>6.0</td>\n      <td>0.0</td>\n      <td>106.0</td>\n      <td>29.0</td>\n      <td>53.0</td>\n      <td>155.0</td>\n      <td>0.0</td>\n      <td>7.0</td>\n      <td>0.0</td>\n      <td>...</td>\n      <td>1.500000</td>\n      <td>0.000000</td>\n      <td>26.500000</td>\n      <td>7.250000</td>\n      <td>13.250000</td>\n      <td>38.750000</td>\n      <td>0.000000</td>\n      <td>1.750000</td>\n      <td>0.000000</td>\n      <td>1.500000</td>\n    </tr>\n    <tr>\n      <th>2004-2007</th>\n      <td>68.0</td>\n      <td>14.0</td>\n      <td>1.0</td>\n      <td>53.0</td>\n      <td>37.0</td>\n      <td>40.0</td>\n      <td>183.0</td>\n      <td>0.0</td>\n      <td>1.0</td>\n      <td>0.0</td>\n      <td>...</td>\n      <td>3.526448</td>\n      <td>0.251889</td>\n      <td>13.350126</td>\n      <td>9.319899</td>\n      <td>10.075567</td>\n      <td>46.095718</td>\n      <td>0.000000</td>\n      <td>0.251889</td>\n      <td>0.000000</td>\n      <td>0.000000</td>\n    </tr>\n    <tr>\n      <th>2008-2011</th>\n      <td>12.0</td>\n      <td>7.0</td>\n      <td>0.0</td>\n      <td>167.0</td>\n      <td>55.0</td>\n      <td>17.0</td>\n      <td>138.0</td>\n      <td>1.0</td>\n      <td>3.0</td>\n      <td>0.0</td>\n      <td>...</td>\n      <td>1.750000</td>\n      <td>0.000000</td>\n      <td>41.750000</td>\n      <td>13.750000</td>\n      <td>4.250000</td>\n      <td>34.500000</td>\n      <td>0.250000</td>\n      <td>0.750000</td>\n      <td>0.000000</td>\n      <td>0.000000</td>\n    </tr>\n    <tr>\n      <th>2012-2015</th>\n      <td>27.0</td>\n      <td>30.0</td>\n      <td>3.0</td>\n      <td>123.0</td>\n      <td>80.0</td>\n      <td>24.0</td>\n      <td>102.0</td>\n      <td>0.0</td>\n      <td>3.0</td>\n      <td>0.0</td>\n      <td>...</td>\n      <td>7.500000</td>\n      <td>0.750000</td>\n      <td>30.750000</td>\n      <td>20.000000</td>\n      <td>6.000000</td>\n      <td>25.500000</td>\n      <td>0.000000</td>\n      <td>0.750000</td>\n      <td>0.000000</td>\n      <td>2.000000</td>\n    </tr>\n    <tr>\n      <th>2016-2019</th>\n      <td>47.0</td>\n      <td>39.0</td>\n      <td>0.0</td>\n      <td>93.0</td>\n      <td>61.0</td>\n      <td>8.0</td>\n      <td>109.0</td>\n      <td>1.0</td>\n      <td>39.0</td>\n      <td>0.0</td>\n      <td>...</td>\n      <td>9.750000</td>\n      <td>0.000000</td>\n      <td>23.250000</td>\n      <td>15.250000</td>\n      <td>2.000000</td>\n      <td>27.250000</td>\n      <td>0.250000</td>\n      <td>9.750000</td>\n      <td>0.000000</td>\n      <td>0.750000</td>\n    </tr>\n  </tbody>\n</table>\n<p>10 rows × 23 columns</p>\n</div>"
     },
     "metadata": {},
     "execution_count": 17
    }
   ],
   "source": [
    "den = ['total']\n",
    "num = ['R&B/Soul', '국내영화/국내드라마', '그외', '댄스', '랩/힙합', '록/메탈', '발라드', '성인가요', '인디음악', '재즈', '포크/블루스']\n",
    "percent = ['R&B/Soul(%)', '국내영화/국내드라마(%)', '그외(%)', '댄스(%)', '랩/힙합(%)', '록/메탈(%)', '발라드(%)', '성인가요(%)', '인디음악(%)', '재즈(%)', '포크/블루스(%)']\n",
    "\n",
    "df_pivot[percent] = df_pivot[num].div(df_pivot[den].values)*100\n",
    "df_pivot"
   ]
  },
  {
   "cell_type": "code",
   "execution_count": null,
   "metadata": {},
   "outputs": [],
   "source": []
  }
 ]
}